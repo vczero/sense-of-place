{
 "cells": [
  {
   "cell_type": "code",
   "execution_count": 107,
   "id": "05177ef5-ad8d-4485-9615-c7ac16d618f6",
   "metadata": {},
   "outputs": [],
   "source": [
    "import pandas as pd\n",
    "import networkx as nx\n",
    "import matplotlib.pyplot as plt\n",
    "import re\n",
    "import jieba\n",
    "import numpy as np\n",
    "\n",
    "from wordcloud import WordCloud\n",
    "from collections import Counter\n",
    "import seaborn as sns"
   ]
  },
  {
   "cell_type": "code",
   "execution_count": 108,
   "id": "64f87cd4-c61c-445a-9e6a-7f3e22336edc",
   "metadata": {},
   "outputs": [
    {
     "name": "stderr",
     "output_type": "stream",
     "text": [
      "/var/folders/p9/cl5b6dld6ss75rd9r5_0snd80000gn/T/ipykernel_26989/2941857000.py:1: DtypeWarning: Columns (5,11) have mixed types. Specify dtype option on import or set low_memory=False.\n",
      "  df = pd.read_csv('../../clean_data/comments.csv')\n"
     ]
    }
   ],
   "source": [
    "df = pd.read_csv('../../clean_data/comments.csv')\n",
    "user = pd.read_csv('../../clean_data/userinfo.csv')\n",
    "sa = pd.read_csv('../../data/sa340.csv')"
   ]
  },
  {
   "cell_type": "code",
   "execution_count": 109,
   "id": "0ba383c6-1c14-4ffc-9536-81346c721b83",
   "metadata": {},
   "outputs": [
    {
     "name": "stdout",
     "output_type": "stream",
     "text": [
      "60 0.19933554817275748\n",
      "记录分界点： 2085\n"
     ]
    }
   ],
   "source": [
    "city_counts = df.groupby('city').size()\n",
    "city_counts_sorted = city_counts.sort_values(ascending=False)\n",
    "values = list(city_counts_sorted)\n",
    "threshold_index = int(len(values) * 0.2)\n",
    "print(threshold_index, threshold_index /len(values))\n",
    "THRESHOLD = values[threshold_index - 1] # index 从0开始\n",
    "print('记录分界点：', THRESHOLD) "
   ]
  },
  {
   "cell_type": "code",
   "execution_count": 110,
   "id": "4f9bdb42-4838-40c7-a3ae-05132f1c9045",
   "metadata": {},
   "outputs": [
    {
     "name": "stderr",
     "output_type": "stream",
     "text": [
      "/var/folders/p9/cl5b6dld6ss75rd9r5_0snd80000gn/T/ipykernel_26989/954044273.py:7: DeprecationWarning: DataFrameGroupBy.apply operated on the grouping columns. This behavior is deprecated, and in a future version of pandas the grouping columns will be excluded from the operation. Either pass `include_groups=False` to exclude the groupings or explicitly select the grouping columns after groupby to silence this warning.\n",
      "  PART_2 = temp.groupby('city').apply(lambda x: x.sample(n=THRESHOLD)).reset_index(drop=True)\n"
     ]
    }
   ],
   "source": [
    "# 超过分界点的城市\n",
    "cities_above = city_counts[city_counts >= THRESHOLD].index.tolist()\n",
    "PART_1 = df[~df.city.isin(cities_above)]\n",
    "\n",
    "# 对这些超过阈值的城市重新采样\n",
    "temp = df[df['city'].isin(cities_above)]\n",
    "PART_2 = temp.groupby('city').apply(lambda x: x.sample(n=THRESHOLD)).reset_index(drop=True)"
   ]
  },
  {
   "cell_type": "code",
   "execution_count": 111,
   "id": "81df8581-93ba-4388-8827-7f940a4dd2c2",
   "metadata": {},
   "outputs": [],
   "source": [
    "df_study = pd.concat([PART_1, PART_2]).reset_index(drop=True)"
   ]
  },
  {
   "cell_type": "code",
   "execution_count": 112,
   "id": "02049156-f130-4e7b-b5fc-547a4ff190aa",
   "metadata": {},
   "outputs": [
    {
     "data": {
      "text/plain": [
       "239849"
      ]
     },
     "execution_count": 112,
     "metadata": {},
     "output_type": "execute_result"
    }
   ],
   "source": [
    "len(df_study)"
   ]
  },
  {
   "cell_type": "code",
   "execution_count": 113,
   "id": "04de6eb8-5cd3-4e34-834c-afbd9ce78ff3",
   "metadata": {},
   "outputs": [],
   "source": [
    "df_study.to_csv('../../clean_data/comments_study.csv', index=None)"
   ]
  },
  {
   "cell_type": "code",
   "execution_count": 114,
   "id": "2c74c539-635f-46b4-9898-3edde6d89376",
   "metadata": {},
   "outputs": [],
   "source": [
    "# 将用户信息和评论进行匹配\n",
    "user = pd.read_csv('../../clean_data/userinfo.csv')\n",
    "user = user[user.userid.isin(df_study.userId)]"
   ]
  },
  {
   "cell_type": "code",
   "execution_count": 115,
   "id": "3c2a700e-1865-4f8e-b510-aaf49e126efd",
   "metadata": {},
   "outputs": [],
   "source": [
    "user.to_csv('../../clean_data/user_study.csv', index=None)"
   ]
  },
  {
   "cell_type": "code",
   "execution_count": null,
   "id": "bc289889-f76b-425a-96c5-4a4bfa398dee",
   "metadata": {},
   "outputs": [],
   "source": []
  },
  {
   "cell_type": "code",
   "execution_count": null,
   "id": "f1c676d1-bbc8-4692-aba7-72871ea1dbb3",
   "metadata": {},
   "outputs": [],
   "source": []
  }
 ],
 "metadata": {
  "kernelspec": {
   "display_name": "Python 3 (ipykernel)",
   "language": "python",
   "name": "python3"
  },
  "language_info": {
   "codemirror_mode": {
    "name": "ipython",
    "version": 3
   },
   "file_extension": ".py",
   "mimetype": "text/x-python",
   "name": "python",
   "nbconvert_exporter": "python",
   "pygments_lexer": "ipython3",
   "version": "3.13.5"
  }
 },
 "nbformat": 4,
 "nbformat_minor": 5
}
