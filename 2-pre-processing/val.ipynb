{
 "cells": [
  {
   "cell_type": "markdown",
   "id": "538eb508-0766-4e98-aa4f-f7b197048b0a",
   "metadata": {},
   "source": [
    "## 80/20 Rule"
   ]
  },
  {
   "cell_type": "code",
   "execution_count": 1,
   "id": "a83bc5b2-920b-465b-88cf-6b5442e4b8a9",
   "metadata": {},
   "outputs": [],
   "source": [
    "import pandas as pd\n",
    "import networkx as nx\n",
    "import matplotlib.pyplot as plt\n",
    "import re\n",
    "import jieba\n",
    "import numpy as np\n",
    "\n",
    "from wordcloud import WordCloud\n",
    "from collections import Counter\n",
    "import seaborn as sns"
   ]
  },
  {
   "cell_type": "code",
   "execution_count": 2,
   "id": "65793c01-40d3-4942-8fed-9554c9d8bb76",
   "metadata": {},
   "outputs": [
    {
     "name": "stderr",
     "output_type": "stream",
     "text": [
      "/var/folders/p9/cl5b6dld6ss75rd9r5_0snd80000gn/T/ipykernel_47158/4118919109.py:1: DtypeWarning: Columns (5,11) have mixed types. Specify dtype option on import or set low_memory=False.\n",
      "  df = pd.read_csv('../../clean_data/comments.csv')\n"
     ]
    }
   ],
   "source": [
    "df = pd.read_csv('../../clean_data/comments.csv')"
   ]
  },
  {
   "cell_type": "code",
   "execution_count": 4,
   "id": "cef83dea-37bb-4cb7-babb-fbdb04a5450e",
   "metadata": {},
   "outputs": [],
   "source": [
    "result = df.groupby('city', as_index=False).size().rename(columns={'size': 'count'})\n",
    "result = result.sort_values(by='count', ascending=False)"
   ]
  },
  {
   "cell_type": "code",
   "execution_count": 7,
   "id": "5e0878fe-d20b-49d1-be75-05abdeeff93a",
   "metadata": {},
   "outputs": [
    {
     "data": {
      "text/plain": [
       "0.7766700316775159"
      ]
     },
     "execution_count": 7,
     "metadata": {},
     "output_type": "execute_result"
    }
   ],
   "source": [
    "result[0:20]['count'].sum() / result['count'].sum()"
   ]
  },
  {
   "cell_type": "code",
   "execution_count": null,
   "id": "3ea21265-8e62-4d69-822e-99770c5130d3",
   "metadata": {},
   "outputs": [],
   "source": []
  }
 ],
 "metadata": {
  "kernelspec": {
   "display_name": "Python 3 (ipykernel)",
   "language": "python",
   "name": "python3"
  },
  "language_info": {
   "codemirror_mode": {
    "name": "ipython",
    "version": 3
   },
   "file_extension": ".py",
   "mimetype": "text/x-python",
   "name": "python",
   "nbconvert_exporter": "python",
   "pygments_lexer": "ipython3",
   "version": "3.13.5"
  }
 },
 "nbformat": 4,
 "nbformat_minor": 5
}
