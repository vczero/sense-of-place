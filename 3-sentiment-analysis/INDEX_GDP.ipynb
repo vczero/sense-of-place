{
 "cells": [
  {
   "cell_type": "code",
   "execution_count": 1,
   "id": "4ba64189-4d06-41ce-8c0b-d94ecf141402",
   "metadata": {},
   "outputs": [],
   "source": [
    "import pandas as pd"
   ]
  },
  {
   "cell_type": "code",
   "execution_count": 2,
   "id": "ccec6e75-b629-458a-ad82-d99fbf23c886",
   "metadata": {},
   "outputs": [
    {
     "name": "stderr",
     "output_type": "stream",
     "text": [
      "/var/folders/p9/cl5b6dld6ss75rd9r5_0snd80000gn/T/ipykernel_85993/1827675484.py:1: DtypeWarning: Columns (5) have mixed types. Specify dtype option on import or set low_memory=False.\n",
      "  df = pd.read_csv('../../clean_data/comments_study.csv')\n"
     ]
    }
   ],
   "source": [
    "df = pd.read_csv('../../clean_data/comments_study.csv')"
   ]
  },
  {
   "cell_type": "markdown",
   "id": "2584c47c-72f3-4982-b8c6-d2c7b4cbe09a",
   "metadata": {},
   "source": [
    "## 分析各城市指标比重"
   ]
  },
  {
   "cell_type": "code",
   "execution_count": 3,
   "id": "0bbad968-15cc-461e-9566-474647aa537f",
   "metadata": {},
   "outputs": [],
   "source": [
    "def get_city_sentiment_index():\n",
    "    ds = []\n",
    "    cities = list(set(df['city'].tolist()))\n",
    "    temp = df[['city', 'label']]\n",
    "    Delta = 1\n",
    "    for i in cities:\n",
    "        city = temp[temp.city==i]\n",
    "        _sum = len(city)\n",
    "        neu = len(city[city.label=='Neutral'])\n",
    "        neu_rate = neu / _sum\n",
    "        \n",
    "        pos = len(city[city.label=='Positive'])\n",
    "        pos_rate = pos / _sum\n",
    "        \n",
    "        neg = len(city[city.label=='Negative'])\n",
    "        neg_rate = neg / _sum\n",
    "        \n",
    "        ds.append([i, neu, neu_rate, pos, pos_rate, neg, neg_rate, _sum])\n",
    "        \n",
    "    res = pd.DataFrame(ds, columns=['city', 'Neutral', 'Neutral_rate', 'Positive', 'Positive_rate', \n",
    "                                    'Negative', 'Negative_rate', '_sum'])\n",
    "    return res\n",
    "    \n",
    "df_INDEX = get_city_sentiment_index()"
   ]
  },
  {
   "cell_type": "code",
   "execution_count": 4,
   "id": "173f7039-5a25-4163-a1bd-0d09847d20f2",
   "metadata": {},
   "outputs": [],
   "source": [
    "gdp = pd.read_csv('../../../cii-new/data/GDP2022_clean_data.csv')"
   ]
  },
  {
   "cell_type": "code",
   "execution_count": 5,
   "id": "c7213292-0f23-4d64-94dc-0d878d140bee",
   "metadata": {},
   "outputs": [],
   "source": [
    "df_gdp_index = pd.merge(gdp, df_INDEX, left_on='name', right_on='city', how='inner')\n",
    "df_gdp_index = df_gdp_index.drop(columns=['city'])"
   ]
  },
  {
   "cell_type": "code",
   "execution_count": 6,
   "id": "71dff7df-7199-45c9-9a28-53a5b305fb27",
   "metadata": {},
   "outputs": [],
   "source": [
    "def get_emo_rate(cities):\n",
    "    temp = df_gdp_index[df_gdp_index.name.isin(cities)]\n",
    "    pos = temp['Positive_rate'].describe().loc['mean']\n",
    "    neg = temp['Negative_rate'].describe().loc['mean']\n",
    "    neu = temp['Neutral_rate'].describe().loc['mean']\n",
    "    print('Neutral_rate:', neu)\n",
    "    print('Negative_rate:', neg)\n",
    "    print('Positive_rate:', pos)\n",
    "\n",
    "    print('POS / NEG:', pos / neg)\n",
    "    print('NEU / NEG:', neu / neg)"
   ]
  },
  {
   "cell_type": "markdown",
   "id": "6ec1e589-b929-477a-99ae-bc828ab7240e",
   "metadata": {},
   "source": [
    "## 城市综合排名(魅力指数) 分组"
   ]
  },
  {
   "cell_type": "code",
   "execution_count": 7,
   "id": "fcf4dd91-65bb-4a8a-977c-4f6a903bcb78",
   "metadata": {},
   "outputs": [],
   "source": [
    "# https://m.yicai.com/news/102638963.html?code=102635348\n",
    "# https://www.datayicai.com/rankList\n",
    "# https://www.datayicai.com/report/detail/1000039"
   ]
  },
  {
   "cell_type": "code",
   "execution_count": 8,
   "id": "f9ab7112-87f4-42e5-bb87-105f8a1d9185",
   "metadata": {},
   "outputs": [],
   "source": [
    "city_rank = pd.read_csv('./新一线城市魅力排行榜_2025年.csv')\n",
    "tier_0 = city_rank[city_rank['级别'] == '一线城市']['城市'].tolist()\n",
    "tier_1 = city_rank[city_rank['级别'] == '新一线城市']['城市'].tolist()\n",
    "tier_2 = city_rank[city_rank['级别'] == '二线城市']['城市'].tolist()\n",
    "tier_3 = city_rank[city_rank['级别'] == '三线城市']['城市'].tolist()\n",
    "tier_4 = city_rank[city_rank['级别'] == '四线城市']['城市'].tolist()\n",
    "tier_5 = city_rank[city_rank['级别'] == '五线城市']['城市'].tolist()"
   ]
  },
  {
   "cell_type": "code",
   "execution_count": 9,
   "id": "29ea309b-7146-4413-a16e-17356caf64c3",
   "metadata": {},
   "outputs": [
    {
     "name": "stdout",
     "output_type": "stream",
     "text": [
      "Neutral_rate: 0.35947242206235014\n",
      "Negative_rate: 0.15323741007194244\n",
      "Positive_rate: 0.48729016786570745\n",
      "POS / NEG: 3.179968701095462\n",
      "NEU / NEG: 2.34585289514867\n"
     ]
    }
   ],
   "source": [
    "get_emo_rate(tier_0)"
   ]
  },
  {
   "cell_type": "code",
   "execution_count": 10,
   "id": "f2fd249d-43dc-47c7-bb6e-f1daf0dba476",
   "metadata": {},
   "outputs": [
    {
     "name": "stdout",
     "output_type": "stream",
     "text": [
      "Neutral_rate: 0.3125978337248339\n",
      "Negative_rate: 0.10310828169208251\n",
      "Positive_rate: 0.5842938845830836\n",
      "POS / NEG: 5.666798776920656\n",
      "NEU / NEG: 3.0317432178567447\n"
     ]
    }
   ],
   "source": [
    "get_emo_rate(tier_1)"
   ]
  },
  {
   "cell_type": "code",
   "execution_count": 11,
   "id": "00039c55-83a7-4e3c-9dab-1e9eaf564000",
   "metadata": {},
   "outputs": [
    {
     "name": "stdout",
     "output_type": "stream",
     "text": [
      "Neutral_rate: 0.3740352504506699\n",
      "Negative_rate: 0.08482344388547135\n",
      "Positive_rate: 0.5411413056638588\n",
      "POS / NEG: 6.379619606043207\n",
      "NEU / NEG: 4.409573972918294\n"
     ]
    }
   ],
   "source": [
    "get_emo_rate(tier_2)"
   ]
  },
  {
   "cell_type": "code",
   "execution_count": 12,
   "id": "2c0ac38a-3d0f-4614-9e15-e3bfd80eebc0",
   "metadata": {},
   "outputs": [
    {
     "name": "stdout",
     "output_type": "stream",
     "text": [
      "Neutral_rate: 0.3942580391882807\n",
      "Negative_rate: 0.07834905534961602\n",
      "Positive_rate: 0.5273929054621034\n",
      "POS / NEG: 6.731324367712215\n",
      "NEU / NEG: 5.0320713814479054\n"
     ]
    }
   ],
   "source": [
    "get_emo_rate(tier_3)"
   ]
  },
  {
   "cell_type": "code",
   "execution_count": 13,
   "id": "ac249474-b28d-4974-8a11-c36665ca16e1",
   "metadata": {},
   "outputs": [
    {
     "name": "stdout",
     "output_type": "stream",
     "text": [
      "Neutral_rate: 0.3870969061842555\n",
      "Negative_rate: 0.0716728874904693\n",
      "Positive_rate: 0.5412302063252751\n",
      "POS / NEG: 7.551393913036435\n",
      "NEU / NEG: 5.4008833707966595\n"
     ]
    }
   ],
   "source": [
    "get_emo_rate(tier_4)"
   ]
  },
  {
   "cell_type": "code",
   "execution_count": 14,
   "id": "716568d3-ffdf-4ab0-ad89-5908d173b9f2",
   "metadata": {},
   "outputs": [
    {
     "name": "stdout",
     "output_type": "stream",
     "text": [
      "Neutral_rate: 0.3920401170056438\n",
      "Negative_rate: 0.07968801259066977\n",
      "Positive_rate: 0.5282718704036866\n",
      "POS / NEG: 6.629251417239374\n",
      "NEU / NEG: 4.919687469424298\n"
     ]
    }
   ],
   "source": [
    "get_emo_rate(tier_5)"
   ]
  },
  {
   "cell_type": "markdown",
   "id": "3d57c9cb-cfe2-4eb0-b6c8-e9f1265c326f",
   "metadata": {},
   "source": [
    "## GDP分组"
   ]
  },
  {
   "cell_type": "code",
   "execution_count": 23,
   "id": "b2ec90d3-9198-4d01-8004-a6d6fa1e0474",
   "metadata": {},
   "outputs": [],
   "source": [
    "gdp_group = df_gdp_index.copy()"
   ]
  },
  {
   "cell_type": "code",
   "execution_count": 24,
   "id": "40720045-a6b2-4673-a9b2-f205ed685ca2",
   "metadata": {},
   "outputs": [],
   "source": [
    "# >= 20000\n",
    "g1 = gdp_group[gdp_group.gdp >= 20000]\n",
    "# 10000-20000\n",
    "g2 = gdp_group[(gdp_group.gdp >= 10000) & (gdp_group.gdp < 20000)]\n",
    "# 5000-10000\n",
    "g3 = gdp_group[(gdp_group.gdp >= 5000) & (gdp_group.gdp < 10000)]\n",
    "# <5000\n",
    "g4 = gdp_group[gdp_group.gdp < 5000]\n",
    "\n",
    "def _desc(df):\n",
    "    temp = df\n",
    "    pos = temp['Positive_rate'].describe().loc['mean']\n",
    "    neg = temp['Negative_rate'].describe().loc['mean']\n",
    "    neu = temp['Neutral_rate'].describe().loc['mean']\n",
    "    print('Neutral_rate:', neu)\n",
    "    print('Negative_rate:', neg)\n",
    "    print('Positive_rate:', pos)\n",
    "\n",
    "    print('POS / NEG:', pos / neg)\n",
    "    print('NEU / NEG:', neu / neg)"
   ]
  },
  {
   "cell_type": "code",
   "execution_count": 25,
   "id": "acd6b36c-3eda-4f6e-b953-fea7f046f179",
   "metadata": {},
   "outputs": [
    {
     "name": "stdout",
     "output_type": "stream",
     "text": [
      "Neutral_rate: 0.322311064133242\n",
      "Negative_rate: 0.13080393912032204\n",
      "Positive_rate: 0.5468849967464359\n",
      "POS / NEG: 4.1809520449026785\n",
      "NEU / NEG: 2.4640776592879146\n"
     ]
    }
   ],
   "source": [
    "_desc(g1)"
   ]
  },
  {
   "cell_type": "code",
   "execution_count": 26,
   "id": "99b1fa2f-26f3-4498-b1bd-5d245c539fcf",
   "metadata": {},
   "outputs": [
    {
     "name": "stdout",
     "output_type": "stream",
     "text": [
      "Neutral_rate: 0.32353353351992103\n",
      "Negative_rate: 0.09935630497855864\n",
      "Positive_rate: 0.5771101615015203\n",
      "POS / NEG: 5.808490579697606\n",
      "NEU / NEG: 3.2562959501134876\n"
     ]
    }
   ],
   "source": [
    "_desc(g2)"
   ]
  },
  {
   "cell_type": "code",
   "execution_count": 27,
   "id": "4bdef9e7-0137-4835-9065-c80f08ca7dd3",
   "metadata": {},
   "outputs": [
    {
     "name": "stdout",
     "output_type": "stream",
     "text": [
      "Neutral_rate: 0.3948158030887299\n",
      "Negative_rate: 0.0826982300982286\n",
      "Positive_rate: 0.5224859668130415\n",
      "POS / NEG: 6.317982454913907\n",
      "NEU / NEG: 4.774174763108828\n"
     ]
    }
   ],
   "source": [
    "_desc(g3)"
   ]
  },
  {
   "cell_type": "code",
   "execution_count": 28,
   "id": "20ba0961-1c72-4994-af5c-2d684b7ee755",
   "metadata": {},
   "outputs": [
    {
     "name": "stdout",
     "output_type": "stream",
     "text": [
      "Neutral_rate: 0.389922200985315\n",
      "Negative_rate: 0.07619167919114492\n",
      "Positive_rate: 0.5338861198235401\n",
      "POS / NEG: 7.007144684187363\n",
      "NEU / NEG: 5.117648083422634\n"
     ]
    }
   ],
   "source": [
    "_desc(g4)"
   ]
  },
  {
   "cell_type": "code",
   "execution_count": null,
   "id": "fb043241-2593-4f71-92bd-f85c12254c74",
   "metadata": {},
   "outputs": [],
   "source": []
  },
  {
   "cell_type": "code",
   "execution_count": null,
   "id": "f8b05a25-3a23-4c25-8ea2-5450554dbcae",
   "metadata": {},
   "outputs": [],
   "source": []
  },
  {
   "cell_type": "code",
   "execution_count": null,
   "id": "d8e50623-142b-4d4a-88c7-e09e3edde90e",
   "metadata": {},
   "outputs": [],
   "source": []
  }
 ],
 "metadata": {
  "kernelspec": {
   "display_name": "Python 3 (ipykernel)",
   "language": "python",
   "name": "python3"
  },
  "language_info": {
   "codemirror_mode": {
    "name": "ipython",
    "version": 3
   },
   "file_extension": ".py",
   "mimetype": "text/x-python",
   "name": "python",
   "nbconvert_exporter": "python",
   "pygments_lexer": "ipython3",
   "version": "3.13.5"
  }
 },
 "nbformat": 4,
 "nbformat_minor": 5
}
