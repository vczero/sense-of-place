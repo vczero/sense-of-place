{
 "cells": [
  {
   "cell_type": "code",
   "execution_count": 1,
   "id": "73d5d5ac-962e-452f-896b-95cb1a78fde8",
   "metadata": {},
   "outputs": [
    {
     "name": "stdout",
     "output_type": "stream",
     "text": [
      "目录下所有 JSONL 文件的总行数为：1149238\n"
     ]
    }
   ],
   "source": [
    "import os\n",
    "directory_path = './LLM-EMO-docs/'\n",
    "total_lines = 0\n",
    "\n",
    "\n",
    "for filename in os.listdir(directory_path):\n",
    "    if filename.endswith('.jsonl'):  \n",
    "        file_path = os.path.join(directory_path, filename) \n",
    "        with open(file_path, \"r\", encoding=\"utf-8\") as file:\n",
    "            total_lines += sum(1 for line in file)\n",
    "\n",
    "print(f\"目录下所有 JSONL 文件的总行数为：{total_lines}\")"
   ]
  },
  {
   "cell_type": "code",
   "execution_count": null,
   "id": "99164afe-48c8-4e1f-8058-231c99a1de89",
   "metadata": {},
   "outputs": [],
   "source": []
  }
 ],
 "metadata": {
  "kernelspec": {
   "display_name": "Python 3 (ipykernel)",
   "language": "python",
   "name": "python3"
  },
  "language_info": {
   "codemirror_mode": {
    "name": "ipython",
    "version": 3
   },
   "file_extension": ".py",
   "mimetype": "text/x-python",
   "name": "python",
   "nbconvert_exporter": "python",
   "pygments_lexer": "ipython3",
   "version": "3.13.5"
  }
 },
 "nbformat": 4,
 "nbformat_minor": 5
}
