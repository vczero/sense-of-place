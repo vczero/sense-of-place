{
 "cells": [
  {
   "cell_type": "code",
   "execution_count": 1,
   "id": "b0a717e0-75fd-4b17-bd64-a4e0afb1e21c",
   "metadata": {},
   "outputs": [],
   "source": [
    "import pandas as pd"
   ]
  },
  {
   "cell_type": "code",
   "execution_count": 2,
   "id": "ad567087-64a5-4cd0-a2f3-a7d606482dc8",
   "metadata": {},
   "outputs": [
    {
     "name": "stderr",
     "output_type": "stream",
     "text": [
      "/var/folders/gy/b67lfcs909x1n9svsdbg9cj80000gn/T/ipykernel_2764/1827675484.py:1: DtypeWarning: Columns (5) have mixed types. Specify dtype option on import or set low_memory=False.\n",
      "  df = pd.read_csv('../../clean_data/comments_study.csv')\n"
     ]
    }
   ],
   "source": [
    "df = pd.read_csv('../../clean_data/comments_study.csv')"
   ]
  },
  {
   "cell_type": "code",
   "execution_count": 3,
   "id": "2d147d39-c034-4498-b2df-eac8aca5ffca",
   "metadata": {},
   "outputs": [],
   "source": [
    "sa = pd.read_csv('../../data/sa340.csv')"
   ]
  },
  {
   "cell_type": "code",
   "execution_count": 4,
   "id": "5cae688d-c40c-4c15-8282-0f8736397792",
   "metadata": {},
   "outputs": [],
   "source": [
    "def get_city_sentiment_index():\n",
    "    ds = []\n",
    "    cities = list(set(df['city'].tolist()))\n",
    "    temp = df[['city', 'label']]\n",
    "    Delta = 1\n",
    "    for i in cities:\n",
    "        city = temp[temp.city==i]\n",
    "        _sum = len(city)\n",
    "        neu = len(city[city.label=='Neutral'])\n",
    "        neu_rate = neu / _sum\n",
    "        \n",
    "        pos = len(city[city.label=='Positive'])\n",
    "        pos_rate = pos / _sum\n",
    "        \n",
    "        neg = len(city[city.label=='Negative'])\n",
    "        neg_rate = neg / _sum\n",
    "        \n",
    "        ds.append([i, neu, neu_rate, pos, pos_rate, neg, neg_rate, _sum])\n",
    "        \n",
    "    res = pd.DataFrame(ds, columns=['city', 'Neutral', 'Neutral_rate', 'Positive', 'Positive_rate', \n",
    "                                    'Negative', 'Negative_rate', '_sum'])\n",
    "    return res\n",
    "    \n",
    "df_INDEX = get_city_sentiment_index()"
   ]
  },
  {
   "cell_type": "code",
   "execution_count": 26,
   "id": "85546055-b5a4-44dd-960a-f3b091e7baa6",
   "metadata": {},
   "outputs": [],
   "source": [
    "def get_emo_rate(cities):\n",
    "    temp = df_INDEX[df_INDEX.city.isin(cities)]\n",
    "    if len(temp):\n",
    "        pos = temp['Positive_rate'].describe().loc['mean']\n",
    "        neg = temp['Negative_rate'].describe().loc['mean']\n",
    "        neu = temp['Neutral_rate'].describe().loc['mean']\n",
    "        print('Neutral_rate:', neu)\n",
    "        print('Negative_rate:', neg)\n",
    "        print('Positive_rate:', pos)\n",
    "    \n",
    "        print('POS / NEG:', pos / neg)\n",
    "        print('NEU / NEG:', neu / neg)\n",
    "    "
   ]
  },
  {
   "cell_type": "markdown",
   "id": "1c714928-f673-49dd-acc1-00de1de29a6f",
   "metadata": {},
   "source": [
    "### 广东省内大湾区城市 vs 非大湾区城市"
   ]
  },
  {
   "cell_type": "markdown",
   "id": "b122d912-fc7f-4223-91c0-460f19766034",
   "metadata": {},
   "source": [
    "<img src='gba.png' width='600'/>"
   ]
  },
  {
   "cell_type": "code",
   "execution_count": 30,
   "id": "ebdc4509-5337-47ba-b2bc-d5677357fadf",
   "metadata": {},
   "outputs": [
    {
     "name": "stdout",
     "output_type": "stream",
     "text": [
      "Neutral_rate: 0.3411703140237822\n",
      "Negative_rate: 0.10256535314098904\n",
      "Positive_rate: 0.5562643328352287\n",
      "POS / NEG: 5.423511115596444\n",
      "NEU / NEG: 3.326370002887822\n"
     ]
    }
   ],
   "source": [
    "# 大湾区\n",
    "# 仅比较广东省内\n",
    "# https://www.bayarea.gov.hk/sc/home/index.html\n",
    "C_cities = ['深圳市', '广州市', '东莞市', '惠州市', '珠海市',\n",
    "           '佛山市', '中山市', '江门市', '肇庆市']\n",
    "get_emo_rate(C_cities)"
   ]
  },
  {
   "cell_type": "code",
   "execution_count": 31,
   "id": "6cff6a04-e75f-423e-b023-f4fd06a5023c",
   "metadata": {},
   "outputs": [
    {
     "name": "stdout",
     "output_type": "stream",
     "text": [
      "Neutral_rate: 0.28529312978516935\n",
      "Negative_rate: 0.0762443768270184\n",
      "Positive_rate: 0.6384624933878121\n",
      "POS / NEG: 8.373896147598426\n",
      "NEU / NEG: 3.7418251897111867\n"
     ]
    }
   ],
   "source": [
    "# 非大湾区城市\n",
    "E_cities = sa[sa.pro_name=='广东省']\n",
    "E_cities = E_cities[~E_cities.name.isin(C_cities)]['name'].tolist()\n",
    "get_emo_rate(E_cities)"
   ]
  },
  {
   "cell_type": "markdown",
   "id": "d5326ff2-bbcc-495f-8873-1b0049058b09",
   "metadata": {},
   "source": [
    "## 一线城市"
   ]
  },
  {
   "cell_type": "code",
   "execution_count": 22,
   "id": "88f44eb2-2525-4ace-94cb-f067e185405a",
   "metadata": {},
   "outputs": [
    {
     "name": "stdout",
     "output_type": "stream",
     "text": [
      "Neutral_rate: 0.30167865707434055\n",
      "Negative_rate: 0.16402877697841728\n",
      "Positive_rate: 0.5342925659472422\n",
      "POS / NEG: 3.257309941520467\n",
      "NEU / NEG: 1.8391812865497077\n"
     ]
    }
   ],
   "source": [
    "get_emo_rate(['北京市'])"
   ]
  },
  {
   "cell_type": "code",
   "execution_count": 23,
   "id": "a184f278-28eb-4b75-9c64-22fd18112648",
   "metadata": {},
   "outputs": [
    {
     "name": "stdout",
     "output_type": "stream",
     "text": [
      "Neutral_rate: 0.41918465227817747\n",
      "Negative_rate: 0.16786570743405277\n",
      "Positive_rate: 0.41294964028776976\n",
      "POS / NEG: 2.4599999999999995\n",
      "NEU / NEG: 2.497142857142857\n"
     ]
    }
   ],
   "source": [
    "get_emo_rate(['上海市'])"
   ]
  },
  {
   "cell_type": "code",
   "execution_count": 21,
   "id": "b6029db6-c783-47b3-8f06-280090513140",
   "metadata": {},
   "outputs": [
    {
     "name": "stdout",
     "output_type": "stream",
     "text": [
      "Neutral_rate: 0.4119904076738609\n",
      "Negative_rate: 0.1448441247002398\n",
      "Positive_rate: 0.44316546762589926\n",
      "POS / NEG: 3.0596026490066226\n",
      "NEU / NEG: 2.8443708609271523\n"
     ]
    }
   ],
   "source": [
    "get_emo_rate(['深圳市'])"
   ]
  },
  {
   "cell_type": "code",
   "execution_count": 39,
   "id": "6776008c-438b-4982-949a-f35441f09370",
   "metadata": {},
   "outputs": [
    {
     "name": "stdout",
     "output_type": "stream",
     "text": [
      "Neutral_rate: 0.30503597122302156\n",
      "Negative_rate: 0.13621103117505995\n",
      "Positive_rate: 0.5587529976019184\n",
      "POS / NEG: 4.102112676056338\n",
      "NEU / NEG: 2.2394366197183095\n"
     ]
    }
   ],
   "source": [
    "get_emo_rate(['广州市'])"
   ]
  },
  {
   "cell_type": "code",
   "execution_count": null,
   "id": "d66f176c-f9cc-4a8a-847b-22215aed29a1",
   "metadata": {},
   "outputs": [],
   "source": []
  }
 ],
 "metadata": {
  "kernelspec": {
   "display_name": "Python 3 (ipykernel)",
   "language": "python",
   "name": "python3"
  },
  "language_info": {
   "codemirror_mode": {
    "name": "ipython",
    "version": 3
   },
   "file_extension": ".py",
   "mimetype": "text/x-python",
   "name": "python",
   "nbconvert_exporter": "python",
   "pygments_lexer": "ipython3",
   "version": "3.13.5"
  }
 },
 "nbformat": 4,
 "nbformat_minor": 5
}
