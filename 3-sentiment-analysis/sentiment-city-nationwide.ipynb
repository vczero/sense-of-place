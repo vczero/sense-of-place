{
 "cells": [
  {
   "cell_type": "code",
   "execution_count": 16,
   "id": "082d722c-781e-47fa-a3da-9b0791991ba3",
   "metadata": {},
   "outputs": [],
   "source": [
    "import pandas as pd"
   ]
  },
  {
   "cell_type": "code",
   "execution_count": 17,
   "id": "6557ed7e-be92-40f0-b646-d62201743ba2",
   "metadata": {},
   "outputs": [
    {
     "name": "stderr",
     "output_type": "stream",
     "text": [
      "/var/folders/p9/cl5b6dld6ss75rd9r5_0snd80000gn/T/ipykernel_84460/1827675484.py:1: DtypeWarning: Columns (5) have mixed types. Specify dtype option on import or set low_memory=False.\n",
      "  df = pd.read_csv('../../clean_data/comments_study.csv')\n"
     ]
    }
   ],
   "source": [
    "df = pd.read_csv('../../clean_data/comments_study.csv')"
   ]
  },
  {
   "cell_type": "code",
   "execution_count": 18,
   "id": "0b6ec104-93e0-4110-a280-974d43462559",
   "metadata": {},
   "outputs": [],
   "source": [
    "def get_city_sentiment_index():\n",
    "    ds = []\n",
    "    cities = list(set(df['city'].tolist()))\n",
    "    temp = df[['city', 'label']]\n",
    "    for i in cities:\n",
    "        city = temp[temp.city==i]\n",
    "        _sum = len(city)\n",
    "        neu = len(city[city.label=='Neutral'])\n",
    "        neu_rate = neu / _sum\n",
    "        \n",
    "        pos = len(city[city.label=='Positive'])\n",
    "        pos_rate = pos / _sum\n",
    "        \n",
    "        neg = len(city[city.label=='Negative'])\n",
    "        neg_rate = neg / _sum\n",
    "        \n",
    "        ds.append([i, neu, neu_rate, pos, pos_rate, neg, neg_rate, _sum])\n",
    "        \n",
    "    res = pd.DataFrame(ds, columns=['city', 'Neutral', 'Neutral_rate', 'Positive', 'Positive_rate', \n",
    "                                    'Negative', 'Negative_rate', '_sum'])\n",
    "    return res\n",
    "    \n",
    "df_INDEX = get_city_sentiment_index()"
   ]
  },
  {
   "cell_type": "markdown",
   "id": "9901d4e4-982f-42d1-9fe2-66a09d422741",
   "metadata": {},
   "source": [
    "## Nationwide"
   ]
  },
  {
   "cell_type": "code",
   "execution_count": 20,
   "id": "52ad4daf-6d25-4b6c-9258-5e030f9693f8",
   "metadata": {},
   "outputs": [
    {
     "data": {
      "text/plain": [
       "Neutral_rate     0.370648\n",
       "Negative_rate    0.078557\n",
       "Positive_rate    0.550795\n",
       "Name: mean, dtype: float64"
      ]
     },
     "execution_count": 20,
     "metadata": {},
     "output_type": "execute_result"
    }
   ],
   "source": [
    "df_INDEX[['Neutral_rate', 'Negative_rate', 'Positive_rate']].describe().loc['mean']"
   ]
  },
  {
   "cell_type": "code",
   "execution_count": 21,
   "id": "f47444ee-971c-4895-bd26-7e5f0150230e",
   "metadata": {},
   "outputs": [],
   "source": [
    "def get_city_sentiment(name):\n",
    "    temp = df[df.city==name]\n",
    "    neu = temp[temp.label=='Neutral']\n",
    "    neg = temp[temp.label=='Negative']\n",
    "    pos = temp[temp.label=='Positive']\n",
    "\n",
    "    res = {\n",
    "        \"Neutral\": len(neu),\n",
    "        \"Negative\": len(neg),\n",
    "        \"Positive\": len(pos)\n",
    "    }\n",
    "\n",
    "    return res"
   ]
  },
  {
   "cell_type": "code",
   "execution_count": 22,
   "id": "8142ea57-1b84-466b-9778-ff733d9e5b64",
   "metadata": {},
   "outputs": [
    {
     "data": {
      "text/plain": [
       "{'Neutral': 629, 'Negative': 342, 'Positive': 1114}"
      ]
     },
     "execution_count": 22,
     "metadata": {},
     "output_type": "execute_result"
    }
   ],
   "source": [
    "get_city_sentiment('北京市')"
   ]
  },
  {
   "cell_type": "code",
   "execution_count": 23,
   "id": "edd9940a-f880-42dd-84bb-f0e858dc77a1",
   "metadata": {},
   "outputs": [
    {
     "data": {
      "text/plain": [
       "{'Neutral': 554, 'Negative': 201, 'Positive': 1330}"
      ]
     },
     "execution_count": 23,
     "metadata": {},
     "output_type": "execute_result"
    }
   ],
   "source": [
    "get_city_sentiment('杭州市')"
   ]
  },
  {
   "cell_type": "code",
   "execution_count": 24,
   "id": "bed886dd-96c1-4af4-9428-f9b80c0b48ed",
   "metadata": {},
   "outputs": [
    {
     "data": {
      "text/plain": [
       "{'Neutral': 192, 'Negative': 32, 'Positive': 291}"
      ]
     },
     "execution_count": 24,
     "metadata": {},
     "output_type": "execute_result"
    }
   ],
   "source": [
    "get_city_sentiment('珠海市')"
   ]
  },
  {
   "cell_type": "code",
   "execution_count": 25,
   "id": "8570eba4-5332-4c97-9510-cf2eba967e5c",
   "metadata": {},
   "outputs": [
    {
     "data": {
      "text/plain": [
       "{'Neutral': 847, 'Negative': 107, 'Positive': 1131}"
      ]
     },
     "execution_count": 25,
     "metadata": {},
     "output_type": "execute_result"
    }
   ],
   "source": [
    "get_city_sentiment('安庆市')"
   ]
  },
  {
   "cell_type": "code",
   "execution_count": 26,
   "id": "23ba6d32-5325-4a17-abc4-37752c8bf11c",
   "metadata": {},
   "outputs": [
    {
     "data": {
      "text/plain": [
       "{'Neutral': 116, 'Negative': 59, 'Positive': 900}"
      ]
     },
     "execution_count": 26,
     "metadata": {},
     "output_type": "execute_result"
    }
   ],
   "source": [
    "get_city_sentiment('景德镇市')"
   ]
  },
  {
   "cell_type": "code",
   "execution_count": 27,
   "id": "3be9c126-df5e-4ac1-b89f-9097c931aa63",
   "metadata": {},
   "outputs": [
    {
     "data": {
      "text/plain": [
       "{'Neutral': 4, 'Negative': 2, 'Positive': 19}"
      ]
     },
     "execution_count": 27,
     "metadata": {},
     "output_type": "execute_result"
    }
   ],
   "source": [
    "get_city_sentiment('鹤岗市')"
   ]
  },
  {
   "cell_type": "code",
   "execution_count": null,
   "id": "97cc5dc0-11fd-44fb-8b40-80d832cd9861",
   "metadata": {},
   "outputs": [],
   "source": []
  },
  {
   "cell_type": "code",
   "execution_count": null,
   "id": "8f1ce699-a174-4284-b8ab-effd6b58a2e4",
   "metadata": {},
   "outputs": [],
   "source": []
  }
 ],
 "metadata": {
  "kernelspec": {
   "display_name": "Python 3 (ipykernel)",
   "language": "python",
   "name": "python3"
  },
  "language_info": {
   "codemirror_mode": {
    "name": "ipython",
    "version": 3
   },
   "file_extension": ".py",
   "mimetype": "text/x-python",
   "name": "python",
   "nbconvert_exporter": "python",
   "pygments_lexer": "ipython3",
   "version": "3.13.5"
  }
 },
 "nbformat": 4,
 "nbformat_minor": 5
}
