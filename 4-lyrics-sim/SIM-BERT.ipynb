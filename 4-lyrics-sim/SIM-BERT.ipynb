{
 "cells": [
  {
   "cell_type": "code",
   "execution_count": 4,
   "id": "5a3016b2-5b96-425a-b1ea-1b469f9465ed",
   "metadata": {},
   "outputs": [],
   "source": [
    "import pandas as pd\n",
    "from transformers import BertTokenizer, TFBertModel, BertConfig\n",
    "import numpy as np\n",
    "import matplotlib.pyplot as plt\n",
    "from tqdm import tqdm\n",
    "from tensorflow.keras.layers import Input, Dense\n",
    "from tensorflow.keras.models import Model\n",
    "from tensorflow.keras.optimizers import Adam\n",
    "from keras.callbacks import EarlyStopping\n",
    "import matplotlib.pyplot as plt\n",
    "import time\n",
    "import numpy as np\n",
    "from sklearn.metrics.pairwise import cosine_similarity"
   ]
  },
  {
   "cell_type": "code",
   "execution_count": 5,
   "id": "92353abc-220f-4c52-aecd-0751e8894b28",
   "metadata": {},
   "outputs": [
    {
     "name": "stdout",
     "output_type": "stream",
     "text": [
      "TensorFlow version: 2.7.0\n",
      "Transformers version: 4.30.2\n"
     ]
    }
   ],
   "source": [
    "import tensorflow as tf\n",
    "import transformers\n",
    "print(\"TensorFlow version:\", tf.__version__)\n",
    "print(\"Transformers version:\", transformers.__version__)\n",
    "model_name = \"bert-base-chinese\""
   ]
  },
  {
   "cell_type": "code",
   "execution_count": 6,
   "id": "769a3e84-e127-40ea-a759-d540f32df297",
   "metadata": {},
   "outputs": [
    {
     "data": {
      "application/vnd.jupyter.widget-view+json": {
       "model_id": "db0e4deb25124caebcb92823a5c93c7b",
       "version_major": 2,
       "version_minor": 0
      },
      "text/plain": [
       "Downloading vocab.txt:   0%|          | 0.00/110k [00:00<?, ?B/s]"
      ]
     },
     "metadata": {},
     "output_type": "display_data"
    },
    {
     "data": {
      "application/vnd.jupyter.widget-view+json": {
       "model_id": "ce01129b67d14612b17cbcce9dca5329",
       "version_major": 2,
       "version_minor": 0
      },
      "text/plain": [
       "Downloading tokenizer_config.json:   0%|          | 0.00/49.0 [00:00<?, ?B/s]"
      ]
     },
     "metadata": {},
     "output_type": "display_data"
    },
    {
     "data": {
      "application/vnd.jupyter.widget-view+json": {
       "model_id": "8cfdc891685649689c53344cd69766a7",
       "version_major": 2,
       "version_minor": 0
      },
      "text/plain": [
       "Downloading config.json:   0%|          | 0.00/624 [00:00<?, ?B/s]"
      ]
     },
     "metadata": {},
     "output_type": "display_data"
    },
    {
     "data": {
      "application/vnd.jupyter.widget-view+json": {
       "model_id": "169b6b10e9de4021a683013c5bfe3de5",
       "version_major": 2,
       "version_minor": 0
      },
      "text/plain": [
       "Downloading (…)ir-Id=K3RPWS32NSSJCE:   0%|          | 0.00/412M [00:00<?, ?B/s]"
      ]
     },
     "metadata": {},
     "output_type": "display_data"
    },
    {
     "name": "stderr",
     "output_type": "stream",
     "text": [
      "2025-03-03 21:39:37.291744: I tensorflow/stream_executor/cuda/cuda_gpu_executor.cc:939] successful NUMA node read from SysFS had negative value (-1), but there must be at least one NUMA node, so returning NUMA node zero\n",
      "2025-03-03 21:39:37.411697: I tensorflow/stream_executor/cuda/cuda_gpu_executor.cc:939] successful NUMA node read from SysFS had negative value (-1), but there must be at least one NUMA node, so returning NUMA node zero\n",
      "2025-03-03 21:39:37.412122: I tensorflow/stream_executor/cuda/cuda_gpu_executor.cc:939] successful NUMA node read from SysFS had negative value (-1), but there must be at least one NUMA node, so returning NUMA node zero\n",
      "2025-03-03 21:39:37.415382: I tensorflow/core/platform/cpu_feature_guard.cc:151] This TensorFlow binary is optimized with oneAPI Deep Neural Network Library (oneDNN) to use the following CPU instructions in performance-critical operations:  AVX2 AVX512F FMA\n",
      "To enable them in other operations, rebuild TensorFlow with the appropriate compiler flags.\n",
      "2025-03-03 21:39:37.417111: I tensorflow/stream_executor/cuda/cuda_gpu_executor.cc:939] successful NUMA node read from SysFS had negative value (-1), but there must be at least one NUMA node, so returning NUMA node zero\n",
      "2025-03-03 21:39:37.417493: I tensorflow/stream_executor/cuda/cuda_gpu_executor.cc:939] successful NUMA node read from SysFS had negative value (-1), but there must be at least one NUMA node, so returning NUMA node zero\n",
      "2025-03-03 21:39:37.417801: I tensorflow/stream_executor/cuda/cuda_gpu_executor.cc:939] successful NUMA node read from SysFS had negative value (-1), but there must be at least one NUMA node, so returning NUMA node zero\n",
      "2025-03-03 21:39:38.567530: I tensorflow/stream_executor/cuda/cuda_gpu_executor.cc:939] successful NUMA node read from SysFS had negative value (-1), but there must be at least one NUMA node, so returning NUMA node zero\n",
      "2025-03-03 21:39:38.567805: I tensorflow/stream_executor/cuda/cuda_gpu_executor.cc:939] successful NUMA node read from SysFS had negative value (-1), but there must be at least one NUMA node, so returning NUMA node zero\n",
      "2025-03-03 21:39:38.567957: I tensorflow/stream_executor/cuda/cuda_gpu_executor.cc:939] successful NUMA node read from SysFS had negative value (-1), but there must be at least one NUMA node, so returning NUMA node zero\n",
      "2025-03-03 21:39:38.568080: W tensorflow/core/common_runtime/gpu/gpu_bfc_allocator.cc:39] Overriding allow_growth setting because the TF_FORCE_GPU_ALLOW_GROWTH environment variable is set. Original config value was 0.\n",
      "2025-03-03 21:39:38.568837: I tensorflow/core/common_runtime/gpu/gpu_device.cc:1525] Created device /job:localhost/replica:0/task:0/device:GPU:0 with 22308 MB memory:  -> device: 0, name: NVIDIA GeForce RTX 3090, pci bus id: 0000:10:00.0, compute capability: 8.6\n",
      "2025-03-03 21:39:41.544902: I tensorflow/stream_executor/cuda/cuda_blas.cc:1774] TensorFloat-32 will be used for the matrix multiplication. This will only be logged once.\n",
      "Some weights of the PyTorch model were not used when initializing the TF 2.0 model TFBertModel: ['cls.predictions.transform.dense.weight', 'cls.predictions.bias', 'cls.predictions.transform.LayerNorm.weight', 'cls.seq_relationship.weight', 'cls.seq_relationship.bias', 'cls.predictions.transform.dense.bias', 'cls.predictions.transform.LayerNorm.bias']\n",
      "- This IS expected if you are initializing TFBertModel from a PyTorch model trained on another task or with another architecture (e.g. initializing a TFBertForSequenceClassification model from a BertForPreTraining model).\n",
      "- This IS NOT expected if you are initializing TFBertModel from a PyTorch model that you expect to be exactly identical (e.g. initializing a TFBertForSequenceClassification model from a BertForSequenceClassification model).\n",
      "All the weights of TFBertModel were initialized from the PyTorch model.\n",
      "If your task is similar to the task the model of the checkpoint was trained on, you can already use TFBertModel for predictions without further training.\n"
     ]
    }
   ],
   "source": [
    "tokenizer = BertTokenizer.from_pretrained(model_name)\n",
    "bert_model = TFBertModel.from_pretrained(model_name)"
   ]
  },
  {
   "cell_type": "code",
   "execution_count": 7,
   "id": "f68a31ac-071a-425c-8826-4b5eb614b61a",
   "metadata": {},
   "outputs": [],
   "source": [
    "def get_bert_embedding(text):\n",
    "    inputs = tokenizer(text, return_tensors='tf', max_length=512, truncation=True, padding='max_length')\n",
    "    outputs = bert_model.bert(inputs)\n",
    "    cls_embedding = outputs.last_hidden_state[:, 0, :].numpy()\n",
    "    return cls_embedding.squeeze()"
   ]
  },
  {
   "cell_type": "code",
   "execution_count": 8,
   "id": "a4915929-1f2d-4444-bc38-6ae1924ec7de",
   "metadata": {},
   "outputs": [],
   "source": [
    "df = pd.read_csv('../clean_data/lyrics_clean.csv')\n",
    "city_names = df['city'].tolist()\n",
    "texts = df['content'].tolist()"
   ]
  },
  {
   "cell_type": "code",
   "execution_count": 9,
   "id": "45f70634-a895-434e-89ca-def9e4fe09f6",
   "metadata": {},
   "outputs": [],
   "source": [
    "# for bert\n",
    "texts = [i.replace(' ', '') for i in texts]"
   ]
  },
  {
   "cell_type": "code",
   "execution_count": 10,
   "id": "57f94f4c-a55a-49c2-81b0-c9aadd58906f",
   "metadata": {},
   "outputs": [
    {
     "name": "stdout",
     "output_type": "stream",
     "text": [
      "[[ 0.90331715 -0.17201401  0.06823187 ... -0.70175636  0.5859843\n",
      "  -0.36856073]\n",
      " [ 0.37233388  0.22014777 -1.1495106  ... -0.3151221  -0.08851374\n",
      "  -0.41829032]\n",
      " [ 0.8583468  -0.34119886 -0.9801506  ... -0.660444    0.09695947\n",
      "  -0.21728826]\n",
      " ...\n",
      " [ 0.926067    0.08867551 -0.29929233 ...  0.039749    0.5902205\n",
      "  -0.08975361]\n",
      " [ 1.1440822   0.66263145 -0.6485996  ...  0.65169895 -0.07311955\n",
      "  -0.32334164]\n",
      " [ 0.63165754 -0.31760013 -0.27759105 ... -0.5521531   0.38353455\n",
      "  -0.52129334]]\n",
      "====similarities=====\n",
      "[[1.     0.6448 0.8839 ... 0.8446 0.8002 0.8326]\n",
      " [0.6448 1.     0.6461 ... 0.665  0.7188 0.7503]\n",
      " [0.8839 0.6461 1.     ... 0.8488 0.7501 0.8397]\n",
      " ...\n",
      " [0.8446 0.665  0.8488 ... 1.     0.7494 0.8191]\n",
      " [0.8002 0.7188 0.7501 ... 0.7494 1.     0.7798]\n",
      " [0.8326 0.7503 0.8397 ... 0.8191 0.7798 1.    ]]\n"
     ]
    }
   ],
   "source": [
    "embeddings = np.array([get_bert_embedding(text) for text in texts])\n",
    "print(embeddings)\n",
    "cosine_sim = cosine_similarity(embeddings)\n",
    "cosine_sim = np.round(cosine_sim, 4)\n",
    "print('====similarities=====')\n",
    "print(cosine_sim)"
   ]
  },
  {
   "cell_type": "code",
   "execution_count": 11,
   "id": "11e5fdbd-724e-4521-acde-b8aa2580379e",
   "metadata": {},
   "outputs": [
    {
     "name": "stdout",
     "output_type": "stream",
     "text": [
      "            唐山市    秦皇岛市     承德市    石家庄市     廊坊市     衡水市    张家口市     保定市  \\\n",
      "唐山市      1.0000  0.6448  0.8839  0.9367  0.8062  0.8459  0.8443  0.9115   \n",
      "秦皇岛市     0.6448  1.0000  0.6461  0.6788  0.7398  0.6825  0.6928  0.7312   \n",
      "承德市      0.8839  0.6461  1.0000  0.8883  0.8026  0.8897  0.8834  0.8774   \n",
      "石家庄市     0.9367  0.6788  0.8883  1.0000  0.8346  0.8679  0.8522  0.9270   \n",
      "廊坊市      0.8062  0.7398  0.8026  0.8346  1.0000  0.7953  0.8339  0.8561   \n",
      "...         ...     ...     ...     ...     ...     ...     ...     ...   \n",
      "澳门特别行政区  0.8270  0.6853  0.7917  0.8357  0.7911  0.8149  0.8064  0.8648   \n",
      "北京市      0.8829  0.7373  0.8422  0.8849  0.8540  0.8227  0.8602  0.8975   \n",
      "天津市      0.8446  0.6650  0.8488  0.8502  0.7782  0.8522  0.8185  0.8318   \n",
      "上海市      0.8002  0.7188  0.7501  0.8084  0.7644  0.7979  0.7469  0.8299   \n",
      "重庆市      0.8326  0.7503  0.8397  0.8523  0.7968  0.7955  0.8093  0.8435   \n",
      "\n",
      "            邢台市     邯郸市  ...  昌吉回族自治州  博尔塔拉蒙古自治州  克孜勒苏柯尔克孜自治州  伊犁哈萨克自治州  \\\n",
      "唐山市      0.8754  0.9092  ...   0.8708     0.8542       0.8434    0.8195   \n",
      "秦皇岛市     0.7116  0.7373  ...   0.6695     0.7146       0.6857    0.6438   \n",
      "承德市      0.8736  0.9028  ...   0.8932     0.8563       0.8654    0.8438   \n",
      "石家庄市     0.8835  0.9059  ...   0.8942     0.8531       0.8644    0.8273   \n",
      "廊坊市      0.8548  0.8344  ...   0.8320     0.8213       0.7642    0.7742   \n",
      "...         ...     ...  ...      ...        ...          ...       ...   \n",
      "澳门特别行政区  0.8195  0.8387  ...   0.8195     0.8165       0.7484    0.7744   \n",
      "北京市      0.9021  0.8780  ...   0.8450     0.8307       0.8359    0.8013   \n",
      "天津市      0.8062  0.8870  ...   0.8395     0.7868       0.8927    0.8769   \n",
      "上海市      0.7875  0.8315  ...   0.7826     0.7781       0.7486    0.7524   \n",
      "重庆市      0.8608  0.8597  ...   0.7918     0.7960       0.8255    0.7650   \n",
      "\n",
      "         香港特别行政区  澳门特别行政区     北京市     天津市     上海市     重庆市  \n",
      "唐山市       0.8818   0.8270  0.8829  0.8446  0.8002  0.8326  \n",
      "秦皇岛市      0.7151   0.6853  0.7373  0.6650  0.7188  0.7503  \n",
      "承德市       0.8491   0.7917  0.8422  0.8488  0.7501  0.8397  \n",
      "石家庄市      0.8917   0.8357  0.8849  0.8502  0.8084  0.8523  \n",
      "廊坊市       0.8226   0.7911  0.8540  0.7782  0.7644  0.7968  \n",
      "...          ...      ...     ...     ...     ...     ...  \n",
      "澳门特别行政区   0.8424   1.0000  0.8238  0.7539  0.8248  0.7556  \n",
      "北京市       0.8721   0.8238  1.0000  0.8438  0.8032  0.8780  \n",
      "天津市       0.8461   0.7539  0.8438  1.0000  0.7494  0.8191  \n",
      "上海市       0.8656   0.8248  0.8032  0.7494  1.0000  0.7798  \n",
      "重庆市       0.8408   0.7556  0.8780  0.8191  0.7798  1.0000  \n",
      "\n",
      "[301 rows x 301 columns]\n"
     ]
    }
   ],
   "source": [
    "df_sim = pd.DataFrame(cosine_sim, columns=city_names, index=city_names)\n",
    "df_sim.to_csv('./city_lyrics_sim.csv')\n",
    "print(df_sim)"
   ]
  },
  {
   "cell_type": "code",
   "execution_count": null,
   "id": "2b23bd0b-5731-41fa-aeee-f1e3878ab5ac",
   "metadata": {},
   "outputs": [],
   "source": []
  }
 ],
 "metadata": {
  "kernelspec": {
   "display_name": "Python 3 (ipykernel)",
   "language": "python",
   "name": "python3"
  },
  "language_info": {
   "codemirror_mode": {
    "name": "ipython",
    "version": 3
   },
   "file_extension": ".py",
   "mimetype": "text/x-python",
   "name": "python",
   "nbconvert_exporter": "python",
   "pygments_lexer": "ipython3",
   "version": "3.13.5"
  }
 },
 "nbformat": 4,
 "nbformat_minor": 5
}
