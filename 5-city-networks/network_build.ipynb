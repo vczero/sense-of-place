{
 "cells": [
  {
   "cell_type": "code",
   "execution_count": 1,
   "id": "265c150d-79dc-4cb3-8788-59254cabfb71",
   "metadata": {},
   "outputs": [],
   "source": [
    "import pandas as pd\n",
    "import networkx as nx\n",
    "import matplotlib.pyplot as plt\n",
    "import re\n",
    "import jieba\n",
    "\n",
    "from wordcloud import WordCloud\n",
    "from collections import Counter\n",
    "from sklearn.feature_extraction.text import TfidfVectorizer"
   ]
  },
  {
   "cell_type": "code",
   "execution_count": 2,
   "id": "6959ddc2-cc25-4069-8a09-409f638dc77e",
   "metadata": {},
   "outputs": [
    {
     "name": "stderr",
     "output_type": "stream",
     "text": [
      "/var/folders/p9/cl5b6dld6ss75rd9r5_0snd80000gn/T/ipykernel_93710/2701579902.py:1: DtypeWarning: Columns (5) have mixed types. Specify dtype option on import or set low_memory=False.\n",
      "  df = pd.read_csv('../../clean_data/comments_study.csv')\n"
     ]
    }
   ],
   "source": [
    "df = pd.read_csv('../../clean_data/comments_study.csv')\n",
    "user = pd.read_csv('../../clean_data/user_study.csv')\n",
    "sa = pd.read_csv('../../data/sa340.csv')"
   ]
  },
  {
   "cell_type": "code",
   "execution_count": 3,
   "id": "d97fc96e-e0f7-4fa7-abb2-1489803ce619",
   "metadata": {},
   "outputs": [],
   "source": [
    "def get_cities_in_China():\n",
    "    user_locs = user[['userid', 'location', 'province', 'city']]\n",
    "    user_locs = user_locs.rename(columns={'userid': 'userId', 'province': 'user_province', 'city': 'user_city'})\n",
    "    comms = df[['city', 'link', 'userId']]\n",
    "    comms = comms.drop_duplicates(subset=['link', 'userId'])\n",
    "    song_user_city = pd.merge(comms, user_locs, on='userId')\n",
    "    song_user_city = song_user_city[song_user_city['user_city'].notna()]\n",
    "    \n",
    "    # 中国省市\n",
    "    song_user_city.loc[song_user_city['user_city'] == '澳门', 'user_city'] = '澳门特别行政区'\n",
    "    song_user_city.loc[song_user_city['user_province'] == '澳门', 'user_province'] = '澳门特别行政区'\n",
    "    song_user_city.loc[song_user_city['user_city'] == '香港', 'user_city'] = '香港特别行政区'\n",
    "    song_user_city.loc[song_user_city['user_province'] == '香港', 'user_province'] = '香港特别行政区'\n",
    "    song_user_city.loc[song_user_city['user_province'] == '台湾省', 'user_city'] = '台湾省'\n",
    "\n",
    "    \n",
    "    song_user_city = song_user_city[song_user_city.user_city.isin(sa['name'])]\n",
    "    \n",
    "    return song_user_city"
   ]
  },
  {
   "cell_type": "code",
   "execution_count": 4,
   "id": "94bd4287-7d42-483c-86b2-ca5d3c0f1dd6",
   "metadata": {},
   "outputs": [],
   "source": [
    "temp = get_cities_in_China()"
   ]
  },
  {
   "cell_type": "markdown",
   "id": "d9e44f45-1d5c-4a40-b7e3-2d610340863f",
   "metadata": {},
   "source": [
    "## Construct Network"
   ]
  },
  {
   "cell_type": "code",
   "execution_count": 5,
   "id": "cccea49b-a7d0-449a-9fe2-a1f6ae4ef65a",
   "metadata": {},
   "outputs": [],
   "source": [
    "def build_whole():\n",
    "    cities = sa[['name', 'center']].copy()\n",
    "    whole = temp.groupby(['city', 'user_city']).size().reset_index(name='weight')\n",
    "    whole = whole.rename(columns={'city': 'target', 'user_city': 'source'})\n",
    "    # whole = whole[whole.weight > 10]\n",
    "    \n",
    "    cities[['longitude', 'latitude']] = cities['center'].str.split(',', expand=True)\n",
    "    cities = cities.drop(columns=['center'])\n",
    "    # 将 source 的经纬度匹配到 whole\n",
    "    whole = whole.merge(cities, left_on='source', right_on='name', how='left')\n",
    "    whole = whole.rename(columns={'longitude': 'source_longitude', 'latitude': 'source_latitude'})\n",
    "    whole = whole.drop(columns=['name'])\n",
    "    # 将 target 的经纬度匹配到 whole\n",
    "    whole = whole.merge(cities, left_on='target', right_on='name', how='left')\n",
    "    whole = whole.rename(columns={'longitude': 'target_longitude', 'latitude': 'target_latitude'})\n",
    "    whole = whole.drop(columns=['name'])\n",
    "    whole.to_csv('../QGIS/nationwide/edges.csv', index=None)\n",
    "    \n",
    "    whole_nodes = pd.unique(whole[['source', 'target']].values.ravel())\n",
    "    node_list = sa[sa.name.isin(whole_nodes)][['name', 'en_name', 'center']]\n",
    "    node_list[['longitude', 'latitude']] = node_list['center'].str.split(',', expand=True)\n",
    "    node_list.to_csv('../QGIS/nationwide/nodes.csv', index=None)\n",
    "\n",
    "    return whole\n",
    "\n",
    "whole_edges = build_whole()"
   ]
  },
  {
   "cell_type": "raw",
   "id": "ba166f44-4671-460a-8b01-60cd13949b8e",
   "metadata": {},
   "source": [
    "# https://anitagraser.com/2019/05/04/flow-maps-in-qgis-no-plugins-needed/\n",
    "# 添加虚拟图层\n",
    "SELECT source, target, weight, \n",
    "       make_line(a.geometry, b.geometry)\n",
    "FROM edges\n",
    "JOIN nodes a ON edges.source = a.name\n",
    "JOIN nodes b ON edges.target = b.name\n",
    "WHERE a.name != b.name \n",
    "\n",
    "\n",
    "# 简单线->箭头->几何图形生成器\n",
    "difference(\n",
    "   difference(\n",
    "      make_line(\n",
    "         start_point($geometry),\n",
    "         centroid(\n",
    "            offset_curve(\n",
    "               $geometry, \n",
    "               length($geometry)/-5.0\n",
    "            )\n",
    "         ),\n",
    "     end_point($geometry)\n",
    "      ),\n",
    "      buffer(start_point($geometry), 0.01)\n",
    "   ),\n",
    "   buffer(end_point( $geometry), 0.01)\n",
    ")\n",
    "\n",
    "# 两点构造线段"
   ]
  },
  {
   "cell_type": "markdown",
   "id": "48a9afa3-210a-4dc9-881f-cc5949b21888",
   "metadata": {},
   "source": [
    "## 省会-省内城市"
   ]
  },
  {
   "cell_type": "code",
   "execution_count": 6,
   "id": "3c79f73b-22cf-4283-9fb7-2596af1803e1",
   "metadata": {},
   "outputs": [
    {
     "data": {
      "text/html": [
       "<div>\n",
       "<style scoped>\n",
       "    .dataframe tbody tr th:only-of-type {\n",
       "        vertical-align: middle;\n",
       "    }\n",
       "\n",
       "    .dataframe tbody tr th {\n",
       "        vertical-align: top;\n",
       "    }\n",
       "\n",
       "    .dataframe thead th {\n",
       "        text-align: right;\n",
       "    }\n",
       "</style>\n",
       "<table border=\"1\" class=\"dataframe\">\n",
       "  <thead>\n",
       "    <tr style=\"text-align: right;\">\n",
       "      <th></th>\n",
       "      <th>index</th>\n",
       "      <th>target</th>\n",
       "      <th>source</th>\n",
       "      <th>weight</th>\n",
       "      <th>source_longitude</th>\n",
       "      <th>source_latitude</th>\n",
       "      <th>target_longitude</th>\n",
       "      <th>target_latitude</th>\n",
       "    </tr>\n",
       "  </thead>\n",
       "  <tbody>\n",
       "    <tr>\n",
       "      <th>0</th>\n",
       "      <td>8848</td>\n",
       "      <td>广元市</td>\n",
       "      <td>成都市</td>\n",
       "      <td>414</td>\n",
       "      <td>104.066301</td>\n",
       "      <td>30.572961</td>\n",
       "      <td>105.844004</td>\n",
       "      <td>32.435774</td>\n",
       "    </tr>\n",
       "    <tr>\n",
       "      <th>1</th>\n",
       "      <td>5843</td>\n",
       "      <td>商洛市</td>\n",
       "      <td>西安市</td>\n",
       "      <td>401</td>\n",
       "      <td>108.939645</td>\n",
       "      <td>34.343207</td>\n",
       "      <td>109.918646</td>\n",
       "      <td>33.873358</td>\n",
       "    </tr>\n",
       "    <tr>\n",
       "      <th>2</th>\n",
       "      <td>9420</td>\n",
       "      <td>张家界市</td>\n",
       "      <td>长沙市</td>\n",
       "      <td>339</td>\n",
       "      <td>112.938882</td>\n",
       "      <td>28.228304</td>\n",
       "      <td>110.478887</td>\n",
       "      <td>29.117343</td>\n",
       "    </tr>\n",
       "  </tbody>\n",
       "</table>\n",
       "</div>"
      ],
      "text/plain": [
       "   index target source  weight source_longitude source_latitude  \\\n",
       "0   8848    广元市    成都市     414       104.066301       30.572961   \n",
       "1   5843    商洛市    西安市     401       108.939645       34.343207   \n",
       "2   9420   张家界市    长沙市     339       112.938882       28.228304   \n",
       "\n",
       "  target_longitude target_latitude  \n",
       "0       105.844004       32.435774  \n",
       "1       109.918646       33.873358  \n",
       "2       110.478887       29.117343  "
      ]
     },
     "execution_count": 6,
     "metadata": {},
     "output_type": "execute_result"
    }
   ],
   "source": [
    "def get_topN_edges_domestic(n=3):\n",
    "    edges = whole_edges\n",
    "    # 不考虑self-loop\n",
    "    edges = edges[edges['source'] != edges['target']]\n",
    "    topN = edges.sort_values(by='weight', ascending=False).head(n)\n",
    "    topN = topN.reset_index()\n",
    "\n",
    "    topN_pairs_cities = pd.unique(topN[0:n][['source', 'target']].values.ravel())\n",
    "    topN_pairs_labels = sa[sa.name.isin(topN_pairs_cities)][['name', 'en_name', 'center']]\n",
    "    topN_pairs_labels[['longitude', 'latitude']] = topN_pairs_labels['center'].str.split(',', expand=True)\n",
    "\n",
    "    return topN, topN_pairs_labels\n",
    "\n",
    "get_topN_edges_domestic(3)[0]"
   ]
  },
  {
   "cell_type": "code",
   "execution_count": 7,
   "id": "aa6b5ee3-0ae9-4f76-a62b-732ead6d7440",
   "metadata": {},
   "outputs": [],
   "source": [
    "top100, _ = get_topN_edges_domestic(n=100)\n",
    "top100.to_csv('./results/top100_pairs.csv', index=None)"
   ]
  },
  {
   "cell_type": "markdown",
   "id": "149ac173-da20-461c-90bc-ca628fa7e558",
   "metadata": {},
   "source": [
    "## 不同等级城市的网络"
   ]
  },
  {
   "cell_type": "code",
   "execution_count": 8,
   "id": "3195a127-523a-4a47-98ee-97d036592746",
   "metadata": {},
   "outputs": [],
   "source": [
    "def delete_auto_pre(text):\n",
    "    text = text.replace('Autonomous Prefecture', '')\n",
    "    text = text.replace('Prefecture', '')\n",
    "    return text.strip()\n",
    "    \n",
    "def build_city_network(df, city_en_name):\n",
    "    cities = sa[['name', 'center']].copy()\n",
    "    whole = df.groupby(['city', 'user_city']).size().reset_index(name='weight')\n",
    "    whole = whole.rename(columns={'city': 'target', 'user_city': 'source'})\n",
    "\n",
    "    cities[['longitude', 'latitude']] = cities['center'].str.split(',', expand=True)\n",
    "    cities = cities.drop(columns=['center'])\n",
    "    whole = whole.merge(cities, left_on='source', right_on='name', how='left')\n",
    "    whole = whole.rename(columns={'longitude': 'source_longitude', 'latitude': 'source_latitude'})\n",
    "    whole = whole.drop(columns=['name'])\n",
    "    whole = whole.merge(cities, left_on='target', right_on='name', how='left')\n",
    "    whole = whole.rename(columns={'longitude': 'target_longitude', 'latitude': 'target_latitude'})\n",
    "    whole = whole.drop(columns=['name'])\n",
    "    whole.to_csv('../QGIS/city_network/' + city_en_name + '/edges.csv', index=None)\n",
    "    \n",
    "    whole_nodes = pd.unique(whole[['source', 'target']].values.ravel())\n",
    "    node_list = sa[sa.name.isin(whole_nodes)][['name', 'en_name', 'center']]\n",
    "    node_list[['longitude', 'latitude']] = node_list['center'].str.split(',', expand=True)\n",
    "    node_list['en_name'] = node_list['en_name'].apply(delete_auto_pre)\n",
    "    \n",
    "    node_list.to_csv('../QGIS/city_network/' + city_en_name + '/nodes.csv', index=None)\n",
    "\n",
    "    # The number of linked cities\n",
    "    print(len(node_list) -1)\n",
    "\n",
    "    # return whole\n",
    "    print('==done==')\n",
    "\n",
    "\n",
    "def get_center_city(city_en_name):\n",
    "    target = sa[sa.en_name==city_en_name].copy()\n",
    "    target[['longitude', 'latitude']] = target['center'].str.split(',', expand=True)\n",
    "    t = target[['name', 'en_name', 'longitude', 'latitude']]\n",
    "    t.to_csv('../QGIS/city_network/' + city_en_name + '/map_node_label.csv', index=None)\n",
    "    return target[['name', 'en_name', 'longitude', 'latitude']]"
   ]
  },
  {
   "cell_type": "code",
   "execution_count": 9,
   "id": "c8268eba-217e-4ed1-a3b5-a6d9e9a54e57",
   "metadata": {},
   "outputs": [
    {
     "name": "stdout",
     "output_type": "stream",
     "text": [
      "210\n",
      "==done==\n"
     ]
    },
    {
     "data": {
      "text/html": [
       "<div>\n",
       "<style scoped>\n",
       "    .dataframe tbody tr th:only-of-type {\n",
       "        vertical-align: middle;\n",
       "    }\n",
       "\n",
       "    .dataframe tbody tr th {\n",
       "        vertical-align: top;\n",
       "    }\n",
       "\n",
       "    .dataframe thead th {\n",
       "        text-align: right;\n",
       "    }\n",
       "</style>\n",
       "<table border=\"1\" class=\"dataframe\">\n",
       "  <thead>\n",
       "    <tr style=\"text-align: right;\">\n",
       "      <th></th>\n",
       "      <th>name</th>\n",
       "      <th>en_name</th>\n",
       "      <th>longitude</th>\n",
       "      <th>latitude</th>\n",
       "    </tr>\n",
       "  </thead>\n",
       "  <tbody>\n",
       "    <tr>\n",
       "      <th>335</th>\n",
       "      <td>北京市</td>\n",
       "      <td>Beijing</td>\n",
       "      <td>116.407387</td>\n",
       "      <td>39.904179</td>\n",
       "    </tr>\n",
       "  </tbody>\n",
       "</table>\n",
       "</div>"
      ],
      "text/plain": [
       "    name  en_name   longitude   latitude\n",
       "335  北京市  Beijing  116.407387  39.904179"
      ]
     },
     "execution_count": 9,
     "metadata": {},
     "output_type": "execute_result"
    }
   ],
   "source": [
    "build_city_network(temp[temp.city=='北京市'], 'Beijing')\n",
    "get_center_city('Beijing')"
   ]
  },
  {
   "cell_type": "code",
   "execution_count": 10,
   "id": "830348b5-049d-4696-858e-a3922fcd70d3",
   "metadata": {},
   "outputs": [
    {
     "name": "stdout",
     "output_type": "stream",
     "text": [
      "212\n",
      "==done==\n"
     ]
    },
    {
     "data": {
      "text/html": [
       "<div>\n",
       "<style scoped>\n",
       "    .dataframe tbody tr th:only-of-type {\n",
       "        vertical-align: middle;\n",
       "    }\n",
       "\n",
       "    .dataframe tbody tr th {\n",
       "        vertical-align: top;\n",
       "    }\n",
       "\n",
       "    .dataframe thead th {\n",
       "        text-align: right;\n",
       "    }\n",
       "</style>\n",
       "<table border=\"1\" class=\"dataframe\">\n",
       "  <thead>\n",
       "    <tr style=\"text-align: right;\">\n",
       "      <th></th>\n",
       "      <th>name</th>\n",
       "      <th>en_name</th>\n",
       "      <th>longitude</th>\n",
       "      <th>latitude</th>\n",
       "    </tr>\n",
       "  </thead>\n",
       "  <tbody>\n",
       "    <tr>\n",
       "      <th>89</th>\n",
       "      <td>杭州市</td>\n",
       "      <td>Hangzhou</td>\n",
       "      <td>120.210792</td>\n",
       "      <td>30.246026</td>\n",
       "    </tr>\n",
       "  </tbody>\n",
       "</table>\n",
       "</div>"
      ],
      "text/plain": [
       "   name   en_name   longitude   latitude\n",
       "89  杭州市  Hangzhou  120.210792  30.246026"
      ]
     },
     "execution_count": 10,
     "metadata": {},
     "output_type": "execute_result"
    }
   ],
   "source": [
    "build_city_network(temp[temp.city=='杭州市'], 'Hangzhou')\n",
    "get_center_city('Hangzhou')"
   ]
  },
  {
   "cell_type": "code",
   "execution_count": 11,
   "id": "de61faee-81ba-46b3-ba62-a96ffbe860c5",
   "metadata": {},
   "outputs": [
    {
     "name": "stdout",
     "output_type": "stream",
     "text": [
      "53\n",
      "==done==\n"
     ]
    },
    {
     "data": {
      "text/html": [
       "<div>\n",
       "<style scoped>\n",
       "    .dataframe tbody tr th:only-of-type {\n",
       "        vertical-align: middle;\n",
       "    }\n",
       "\n",
       "    .dataframe tbody tr th {\n",
       "        vertical-align: top;\n",
       "    }\n",
       "\n",
       "    .dataframe thead th {\n",
       "        text-align: right;\n",
       "    }\n",
       "</style>\n",
       "<table border=\"1\" class=\"dataframe\">\n",
       "  <thead>\n",
       "    <tr style=\"text-align: right;\">\n",
       "      <th></th>\n",
       "      <th>name</th>\n",
       "      <th>en_name</th>\n",
       "      <th>longitude</th>\n",
       "      <th>latitude</th>\n",
       "    </tr>\n",
       "  </thead>\n",
       "  <tbody>\n",
       "    <tr>\n",
       "      <th>195</th>\n",
       "      <td>珠海市</td>\n",
       "      <td>Zhuhai</td>\n",
       "      <td>113.576892</td>\n",
       "      <td>22.271644</td>\n",
       "    </tr>\n",
       "  </tbody>\n",
       "</table>\n",
       "</div>"
      ],
      "text/plain": [
       "    name en_name   longitude   latitude\n",
       "195  珠海市  Zhuhai  113.576892  22.271644"
      ]
     },
     "execution_count": 11,
     "metadata": {},
     "output_type": "execute_result"
    }
   ],
   "source": [
    "build_city_network(temp[temp.city=='珠海市'], 'Zhuhai')\n",
    "get_center_city('Zhuhai')"
   ]
  },
  {
   "cell_type": "code",
   "execution_count": 12,
   "id": "91903e9c-2574-4417-806a-837a667f56cd",
   "metadata": {},
   "outputs": [
    {
     "name": "stdout",
     "output_type": "stream",
     "text": [
      "186\n",
      "==done==\n"
     ]
    },
    {
     "data": {
      "text/html": [
       "<div>\n",
       "<style scoped>\n",
       "    .dataframe tbody tr th:only-of-type {\n",
       "        vertical-align: middle;\n",
       "    }\n",
       "\n",
       "    .dataframe tbody tr th {\n",
       "        vertical-align: top;\n",
       "    }\n",
       "\n",
       "    .dataframe thead th {\n",
       "        text-align: right;\n",
       "    }\n",
       "</style>\n",
       "<table border=\"1\" class=\"dataframe\">\n",
       "  <thead>\n",
       "    <tr style=\"text-align: right;\">\n",
       "      <th></th>\n",
       "      <th>name</th>\n",
       "      <th>en_name</th>\n",
       "      <th>longitude</th>\n",
       "      <th>latitude</th>\n",
       "    </tr>\n",
       "  </thead>\n",
       "  <tbody>\n",
       "    <tr>\n",
       "      <th>96</th>\n",
       "      <td>安庆市</td>\n",
       "      <td>Anqing</td>\n",
       "      <td>117.115349</td>\n",
       "      <td>30.531828</td>\n",
       "    </tr>\n",
       "  </tbody>\n",
       "</table>\n",
       "</div>"
      ],
      "text/plain": [
       "   name en_name   longitude   latitude\n",
       "96  安庆市  Anqing  117.115349  30.531828"
      ]
     },
     "execution_count": 12,
     "metadata": {},
     "output_type": "execute_result"
    }
   ],
   "source": [
    "build_city_network(temp[temp.city=='安庆市'], 'Anqing')\n",
    "get_center_city('Anqing')"
   ]
  },
  {
   "cell_type": "code",
   "execution_count": 13,
   "id": "7693b3e3-db8d-4dab-92f0-5b16f8874367",
   "metadata": {},
   "outputs": [
    {
     "name": "stdout",
     "output_type": "stream",
     "text": [
      "72\n",
      "==done==\n"
     ]
    },
    {
     "data": {
      "text/html": [
       "<div>\n",
       "<style scoped>\n",
       "    .dataframe tbody tr th:only-of-type {\n",
       "        vertical-align: middle;\n",
       "    }\n",
       "\n",
       "    .dataframe tbody tr th {\n",
       "        vertical-align: top;\n",
       "    }\n",
       "\n",
       "    .dataframe thead th {\n",
       "        text-align: right;\n",
       "    }\n",
       "</style>\n",
       "<table border=\"1\" class=\"dataframe\">\n",
       "  <thead>\n",
       "    <tr style=\"text-align: right;\">\n",
       "      <th></th>\n",
       "      <th>name</th>\n",
       "      <th>en_name</th>\n",
       "      <th>longitude</th>\n",
       "      <th>latitude</th>\n",
       "    </tr>\n",
       "  </thead>\n",
       "  <tbody>\n",
       "    <tr>\n",
       "      <th>124</th>\n",
       "      <td>景德镇市</td>\n",
       "      <td>Jingdezhen</td>\n",
       "      <td>117.184892</td>\n",
       "      <td>29.2744</td>\n",
       "    </tr>\n",
       "  </tbody>\n",
       "</table>\n",
       "</div>"
      ],
      "text/plain": [
       "     name     en_name   longitude latitude\n",
       "124  景德镇市  Jingdezhen  117.184892  29.2744"
      ]
     },
     "execution_count": 13,
     "metadata": {},
     "output_type": "execute_result"
    }
   ],
   "source": [
    "build_city_network(temp[temp.city=='景德镇市'], 'Jingdezhen')\n",
    "get_center_city('Jingdezhen')"
   ]
  },
  {
   "cell_type": "code",
   "execution_count": 14,
   "id": "2c88a1d9-fbad-45be-b7bb-22891ccc7abb",
   "metadata": {},
   "outputs": [
    {
     "name": "stdout",
     "output_type": "stream",
     "text": [
      "5\n",
      "==done==\n"
     ]
    },
    {
     "data": {
      "text/html": [
       "<div>\n",
       "<style scoped>\n",
       "    .dataframe tbody tr th:only-of-type {\n",
       "        vertical-align: middle;\n",
       "    }\n",
       "\n",
       "    .dataframe tbody tr th {\n",
       "        vertical-align: top;\n",
       "    }\n",
       "\n",
       "    .dataframe thead th {\n",
       "        text-align: right;\n",
       "    }\n",
       "</style>\n",
       "<table border=\"1\" class=\"dataframe\">\n",
       "  <thead>\n",
       "    <tr style=\"text-align: right;\">\n",
       "      <th></th>\n",
       "      <th>name</th>\n",
       "      <th>en_name</th>\n",
       "      <th>longitude</th>\n",
       "      <th>latitude</th>\n",
       "    </tr>\n",
       "  </thead>\n",
       "  <tbody>\n",
       "    <tr>\n",
       "      <th>59</th>\n",
       "      <td>鹤岗市</td>\n",
       "      <td>Hegang</td>\n",
       "      <td>130.297687</td>\n",
       "      <td>47.350659</td>\n",
       "    </tr>\n",
       "  </tbody>\n",
       "</table>\n",
       "</div>"
      ],
      "text/plain": [
       "   name en_name   longitude   latitude\n",
       "59  鹤岗市  Hegang  130.297687  47.350659"
      ]
     },
     "execution_count": 14,
     "metadata": {},
     "output_type": "execute_result"
    }
   ],
   "source": [
    "build_city_network(temp[temp.city=='鹤岗市'], 'Hegang')\n",
    "get_center_city('Hegang')"
   ]
  },
  {
   "cell_type": "markdown",
   "id": "cb99a039-3906-45e0-a0a9-dfc6d465f631",
   "metadata": {},
   "source": [
    "## 导出T0-T5 城市地理位置"
   ]
  },
  {
   "cell_type": "code",
   "execution_count": 15,
   "id": "c40a8e48-f90d-4687-9ebc-4be06f94fa57",
   "metadata": {},
   "outputs": [
    {
     "name": "stderr",
     "output_type": "stream",
     "text": [
      "/var/folders/p9/cl5b6dld6ss75rd9r5_0snd80000gn/T/ipykernel_93710/1796335516.py:2: SettingWithCopyWarning: \n",
      "A value is trying to be set on a copy of a slice from a DataFrame.\n",
      "Try using .loc[row_indexer,col_indexer] = value instead\n",
      "\n",
      "See the caveats in the documentation: https://pandas.pydata.org/pandas-docs/stable/user_guide/indexing.html#returning-a-view-versus-a-copy\n",
      "  six_cities[['longitude', 'latitude']] = six_cities['center'].str.split(',', expand=True)\n",
      "/var/folders/p9/cl5b6dld6ss75rd9r5_0snd80000gn/T/ipykernel_93710/1796335516.py:2: SettingWithCopyWarning: \n",
      "A value is trying to be set on a copy of a slice from a DataFrame.\n",
      "Try using .loc[row_indexer,col_indexer] = value instead\n",
      "\n",
      "See the caveats in the documentation: https://pandas.pydata.org/pandas-docs/stable/user_guide/indexing.html#returning-a-view-versus-a-copy\n",
      "  six_cities[['longitude', 'latitude']] = six_cities['center'].str.split(',', expand=True)\n",
      "/var/folders/p9/cl5b6dld6ss75rd9r5_0snd80000gn/T/ipykernel_93710/1796335516.py:3: SettingWithCopyWarning: \n",
      "A value is trying to be set on a copy of a slice from a DataFrame.\n",
      "Try using .loc[row_indexer,col_indexer] = value instead\n",
      "\n",
      "See the caveats in the documentation: https://pandas.pydata.org/pandas-docs/stable/user_guide/indexing.html#returning-a-view-versus-a-copy\n",
      "  six_cities['longitude'] = six_cities['longitude'].astype(float)\n",
      "/var/folders/p9/cl5b6dld6ss75rd9r5_0snd80000gn/T/ipykernel_93710/1796335516.py:4: SettingWithCopyWarning: \n",
      "A value is trying to be set on a copy of a slice from a DataFrame.\n",
      "Try using .loc[row_indexer,col_indexer] = value instead\n",
      "\n",
      "See the caveats in the documentation: https://pandas.pydata.org/pandas-docs/stable/user_guide/indexing.html#returning-a-view-versus-a-copy\n",
      "  six_cities['latitude'] = six_cities['latitude'].astype(float)\n"
     ]
    }
   ],
   "source": [
    "six_cities = sa[sa.name.isin(['北京市', '杭州市', '珠海市', '安庆市', '景德镇市', '鹤岗市'])]\n",
    "six_cities[['longitude', 'latitude']] = six_cities['center'].str.split(',', expand=True)\n",
    "six_cities['longitude'] = six_cities['longitude'].astype(float)\n",
    "six_cities['latitude'] = six_cities['latitude'].astype(float)\n",
    "six_cities.to_csv('../QGIS/nationwide/six-nodes.csv', index=None)"
   ]
  },
  {
   "cell_type": "code",
   "execution_count": null,
   "id": "e82cd0dc-b962-45d1-b4f9-e6063ab31c4a",
   "metadata": {},
   "outputs": [],
   "source": []
  }
 ],
 "metadata": {
  "kernelspec": {
   "display_name": "Python 3 (ipykernel)",
   "language": "python",
   "name": "python3"
  },
  "language_info": {
   "codemirror_mode": {
    "name": "ipython",
    "version": 3
   },
   "file_extension": ".py",
   "mimetype": "text/x-python",
   "name": "python",
   "nbconvert_exporter": "python",
   "pygments_lexer": "ipython3",
   "version": "3.13.5"
  }
 },
 "nbformat": 4,
 "nbformat_minor": 5
}
