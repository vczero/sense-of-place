{
 "cells": [
  {
   "cell_type": "code",
   "execution_count": 3,
   "id": "342d8226-9e03-4811-89da-4ac87d9ddb77",
   "metadata": {},
   "outputs": [],
   "source": [
    "import os\n",
    "import json\n",
    "import pandas as pd"
   ]
  },
  {
   "cell_type": "code",
   "execution_count": 4,
   "id": "00a1e686-55eb-4d79-9a9f-b8c39d43c163",
   "metadata": {},
   "outputs": [],
   "source": [
    "def extract_info(directory, dist_dir,col_name):\n",
    "    ds = []  \n",
    "    for filename in os.listdir(directory):\n",
    "        if filename.endswith(\".jsonl\"): \n",
    "            file_path = os.path.join(directory, filename)\n",
    "            with open(file_path, 'r', encoding='utf-8') as file:\n",
    "                for line in file:\n",
    "                    try:\n",
    "                        item = json.loads(line.strip())\n",
    "                        _id = item.get('custom_id') \n",
    "                        text = item.get('response').get('body').get('choices')[0].get('message').get('content')\n",
    "                        if text != 'N':\n",
    "                            ds.append([_id, text])\n",
    "                    except json.JSONDecodeError:\n",
    "                        print(f\"无法解析文件 {file_path} 中的一行: {line.strip()}\")\n",
    "\n",
    "    temp = pd.DataFrame(ds, columns=['idx', col_name])\n",
    "    temp.to_csv(dist_dir + col_name + '.csv', index=None)\n",
    "    return temp\n",
    "\n",
    "directory_path = './CityDNA_docs_results/culture/'  \n",
    "col_name = 'DNA_culture'\n",
    "dist_dir = './results/culture/'\n",
    "df_culture = extract_info(directory_path, dist_dir, col_name)"
   ]
  },
  {
   "cell_type": "code",
   "execution_count": 5,
   "id": "ff22e9d6-eab3-49b3-82ca-f02ad99a477f",
   "metadata": {},
   "outputs": [
    {
     "name": "stderr",
     "output_type": "stream",
     "text": [
      "/var/folders/p9/cl5b6dld6ss75rd9r5_0snd80000gn/T/ipykernel_32241/2941328217.py:1: DtypeWarning: Columns (5) have mixed types. Specify dtype option on import or set low_memory=False.\n",
      "  comms = pd.read_csv('./../../clean_data/comments_study.csv')[['city', 'idx']]\n"
     ]
    }
   ],
   "source": [
    "comms = pd.read_csv('./../../clean_data/comments_study.csv')[['city', 'idx']]\n",
    "df_culture['idx'] = df_culture['idx'].astype(str)\n",
    "comms['idx'] = comms['idx'].astype(str)\n",
    "output = pd.merge(df_culture, comms, on='idx')\n",
    "output.to_csv('./results/culture/DNA_culture_study.csv', index=None)"
   ]
  },
  {
   "cell_type": "code",
   "execution_count": null,
   "id": "a0c11ac3-0fe0-4487-954f-750f9abd4a2a",
   "metadata": {},
   "outputs": [],
   "source": []
  },
  {
   "cell_type": "code",
   "execution_count": null,
   "id": "a1122e5e-1cca-4389-9c8c-eac478c75365",
   "metadata": {},
   "outputs": [],
   "source": []
  }
 ],
 "metadata": {
  "kernelspec": {
   "display_name": "Python 3 (ipykernel)",
   "language": "python",
   "name": "python3"
  },
  "language_info": {
   "codemirror_mode": {
    "name": "ipython",
    "version": 3
   },
   "file_extension": ".py",
   "mimetype": "text/x-python",
   "name": "python",
   "nbconvert_exporter": "python",
   "pygments_lexer": "ipython3",
   "version": "3.13.5"
  }
 },
 "nbformat": 4,
 "nbformat_minor": 5
}
