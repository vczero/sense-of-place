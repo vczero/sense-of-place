{
 "cells": [
  {
   "cell_type": "code",
   "execution_count": 27,
   "id": "342d8226-9e03-4811-89da-4ac87d9ddb77",
   "metadata": {},
   "outputs": [],
   "source": [
    "import os\n",
    "import json\n",
    "import pandas as pd"
   ]
  },
  {
   "cell_type": "code",
   "execution_count": 33,
   "id": "00a1e686-55eb-4d79-9a9f-b8c39d43c163",
   "metadata": {},
   "outputs": [],
   "source": [
    "def extract_info(directory, dist_dir,col_name):\n",
    "    ds = []  \n",
    "    for filename in os.listdir(directory):\n",
    "        if filename.endswith(\".jsonl\"): \n",
    "            file_path = os.path.join(directory, filename)\n",
    "            with open(file_path, 'r', encoding='utf-8') as file:\n",
    "                for line in file:\n",
    "                    try:\n",
    "                        item = json.loads(line.strip())\n",
    "                        _id = item.get('custom_id') \n",
    "                        text = item.get('response').get('body').get('choices')[0].get('message').get('content')\n",
    "                        if text != 'N':\n",
    "                            ds.append([_id, text])\n",
    "                    except json.JSONDecodeError:\n",
    "                        print(f\"无法解析文件 {file_path} 中的一行: {line.strip()}\")\n",
    "\n",
    "    temp = pd.DataFrame(ds, columns=['idx', col_name])\n",
    "    temp.to_csv(dist_dir + col_name + '.csv', index=None)\n",
    "    return temp\n",
    "\n",
    "directory_path = './CityDNA_docs_results/food/'  \n",
    "col_name = 'DNA_food'\n",
    "dist_dir = './results/food/'\n",
    "df_food = extract_info(directory_path, dist_dir, col_name)"
   ]
  },
  {
   "cell_type": "code",
   "execution_count": 34,
   "id": "a36c0e3c-68f3-4f08-816c-f5b057caeb3e",
   "metadata": {},
   "outputs": [
    {
     "name": "stderr",
     "output_type": "stream",
     "text": [
      "/var/folders/p9/cl5b6dld6ss75rd9r5_0snd80000gn/T/ipykernel_31822/3313560867.py:1: DtypeWarning: Columns (5) have mixed types. Specify dtype option on import or set low_memory=False.\n",
      "  comms = pd.read_csv('./../../clean_data/comments_study.csv')[['city', 'idx']]\n"
     ]
    }
   ],
   "source": [
    "comms = pd.read_csv('./../../clean_data/comments_study.csv')[['city', 'idx']]\n",
    "df_food['idx'] = df_food['idx'].astype(str)\n",
    "comms['idx'] = comms['idx'].astype(str)\n",
    "output = pd.merge(df_food, comms, on='idx')\n",
    "output.to_csv('./results/food/DNA_food_study.csv', index=None)"
   ]
  },
  {
   "cell_type": "code",
   "execution_count": 30,
   "id": "3817bb9e-3ea6-402a-aa8d-c12bbc26f79d",
   "metadata": {},
   "outputs": [],
   "source": []
  },
  {
   "cell_type": "code",
   "execution_count": 31,
   "id": "6c45bdcc-5563-4b07-a821-af1ec7aaf2dc",
   "metadata": {},
   "outputs": [],
   "source": []
  },
  {
   "cell_type": "code",
   "execution_count": 32,
   "id": "c19023e6-0257-4c2f-8cf7-f46ffd39bc79",
   "metadata": {},
   "outputs": [],
   "source": []
  },
  {
   "cell_type": "code",
   "execution_count": null,
   "id": "084f62eb-fdcb-4b59-b515-5a185f62c95f",
   "metadata": {},
   "outputs": [],
   "source": []
  }
 ],
 "metadata": {
  "kernelspec": {
   "display_name": "Python 3 (ipykernel)",
   "language": "python",
   "name": "python3"
  },
  "language_info": {
   "codemirror_mode": {
    "name": "ipython",
    "version": 3
   },
   "file_extension": ".py",
   "mimetype": "text/x-python",
   "name": "python",
   "nbconvert_exporter": "python",
   "pygments_lexer": "ipython3",
   "version": "3.13.5"
  }
 },
 "nbformat": 4,
 "nbformat_minor": 5
}
