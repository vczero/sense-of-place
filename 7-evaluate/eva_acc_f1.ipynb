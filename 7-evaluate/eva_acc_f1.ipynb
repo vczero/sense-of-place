{
 "cells": [
  {
   "cell_type": "code",
   "execution_count": 3,
   "id": "4b0b3f5b-6321-444e-92a3-ca409204f9c9",
   "metadata": {},
   "outputs": [],
   "source": [
    "import pandas as pd\n",
    "from sklearn.metrics import accuracy_score, f1_score"
   ]
  },
  {
   "cell_type": "code",
   "execution_count": 4,
   "id": "041e3779-459b-493c-9ec7-3ab7dff49207",
   "metadata": {},
   "outputs": [],
   "source": [
    "df = pd.read_csv('../../clean_data/eva_samples_opts.csv')"
   ]
  },
  {
   "cell_type": "code",
   "execution_count": 8,
   "id": "9a1ede91-596e-48bf-88e6-cc917be14d99",
   "metadata": {},
   "outputs": [],
   "source": [
    "y_true = df['label_cls'].tolist()\n",
    "y_pred = df['PH_Label'].tolist()"
   ]
  },
  {
   "cell_type": "code",
   "execution_count": 21,
   "id": "ce40ab37-4a04-484c-907a-c42b1a7d838f",
   "metadata": {},
   "outputs": [],
   "source": [
    "accuracy = accuracy_score(y_true, y_pred)\n",
    "f1 = f1_score(y_true, y_pred, average=\"macro\")"
   ]
  },
  {
   "cell_type": "code",
   "execution_count": 22,
   "id": "e5356435-409c-4c39-9251-49d8423af8cf",
   "metadata": {},
   "outputs": [
    {
     "data": {
      "text/plain": [
       "96.33"
      ]
     },
     "execution_count": 22,
     "metadata": {},
     "output_type": "execute_result"
    }
   ],
   "source": [
    "round(accuracy * 100, 2)"
   ]
  },
  {
   "cell_type": "code",
   "execution_count": 23,
   "id": "697f3a43-a81b-4c92-95d8-38ff38d1c785",
   "metadata": {},
   "outputs": [
    {
     "data": {
      "text/plain": [
       "96.35"
      ]
     },
     "execution_count": 23,
     "metadata": {},
     "output_type": "execute_result"
    }
   ],
   "source": [
    "round(f1 * 100, 2)"
   ]
  },
  {
   "cell_type": "code",
   "execution_count": 24,
   "id": "f532b90e-e4da-4001-af16-487b3baf2be1",
   "metadata": {},
   "outputs": [
    {
     "data": {
      "text/plain": [
       "0.9634587168200613"
      ]
     },
     "execution_count": 24,
     "metadata": {},
     "output_type": "execute_result"
    }
   ],
   "source": [
    "f1_score(y_true, y_pred, average=\"weighted\")"
   ]
  },
  {
   "cell_type": "code",
   "execution_count": null,
   "id": "dfa60321-c3a6-44b9-8c1e-029d8975ce15",
   "metadata": {},
   "outputs": [],
   "source": []
  }
 ],
 "metadata": {
  "kernelspec": {
   "display_name": "Python 3 (ipykernel)",
   "language": "python",
   "name": "python3"
  },
  "language_info": {
   "codemirror_mode": {
    "name": "ipython",
    "version": 3
   },
   "file_extension": ".py",
   "mimetype": "text/x-python",
   "name": "python",
   "nbconvert_exporter": "python",
   "pygments_lexer": "ipython3",
   "version": "3.13.5"
  }
 },
 "nbformat": 4,
 "nbformat_minor": 5
}
