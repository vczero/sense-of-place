{
 "cells": [
  {
   "cell_type": "code",
   "execution_count": 3,
   "id": "147cf38a-e941-454a-bddf-052bd52139db",
   "metadata": {},
   "outputs": [],
   "source": [
    "import pandas as pd"
   ]
  },
  {
   "cell_type": "code",
   "execution_count": 10,
   "id": "9a071ab8-6778-4bea-8296-a1e11be33b97",
   "metadata": {},
   "outputs": [],
   "source": [
    "df = pd.read_csv('../../clean_data/comments.csv')[['user_content', 'label_cls']]"
   ]
  },
  {
   "cell_type": "code",
   "execution_count": 14,
   "id": "8108f4cc-9c84-4d1a-ba0c-581c037c4a57",
   "metadata": {},
   "outputs": [],
   "source": [
    "def gen_samples(num):\n",
    "    t1 = df[df.label_cls=='Neutral'].sample(n=num)\n",
    "    t2 = df[df.label_cls=='Positive'].sample(n=num)\n",
    "    t3 = df[df.label_cls=='Negative'].sample(n=num)\n",
    "\n",
    "    # 打乱排序\n",
    "    t = pd.concat([t1, t2, t3]).sample(frac=1)\n",
    "    t.to_csv('./eva_samples.csv', index=None)"
   ]
  },
  {
   "cell_type": "code",
   "execution_count": 15,
   "id": "2ca8b05d-bdb7-4a29-bfc9-78df758c2e89",
   "metadata": {},
   "outputs": [],
   "source": [
    "gen_samples(100)"
   ]
  },
  {
   "cell_type": "code",
   "execution_count": null,
   "id": "34f4a98e-506d-43b9-85a3-9185ad5403a1",
   "metadata": {},
   "outputs": [],
   "source": []
  }
 ],
 "metadata": {
  "kernelspec": {
   "display_name": "Python 3 (ipykernel)",
   "language": "python",
   "name": "python3"
  },
  "language_info": {
   "codemirror_mode": {
    "name": "ipython",
    "version": 3
   },
   "file_extension": ".py",
   "mimetype": "text/x-python",
   "name": "python",
   "nbconvert_exporter": "python",
   "pygments_lexer": "ipython3",
   "version": "3.13.5"
  }
 },
 "nbformat": 4,
 "nbformat_minor": 5
}
